{
 "cells": [
  {
   "cell_type": "markdown",
   "metadata": {},
   "source": [
    "# Exercise 1: Analyzing the Boston Marathon"
   ]
  },
  {
   "cell_type": "markdown",
   "metadata": {},
   "source": [
    "![title](bm_logo.jpeg)"
   ]
  },
  {
   "cell_type": "markdown",
   "metadata": {},
   "source": [
    "## 1.1 Overview"
   ]
  },
  {
   "cell_type": "markdown",
   "metadata": {},
   "source": [
    "In this exercise we are going to\n",
    "1. Scrape results of the Boston Marathon\n",
    "2. Plot the data\n",
    "3. Analyze the results and identify performance benchmarks"
   ]
  },
  {
   "cell_type": "markdown",
   "metadata": {},
   "source": [
    "## 1.2 Import Libraries"
   ]
  },
  {
   "cell_type": "markdown",
   "metadata": {},
   "source": [
    "Typically there are 3 standard python libraries used for almost any data science task.\n",
    "- **numpy**: numpy is a popular python numerical computing library. It supports large multi-dimensional arrays and matrices and also provides a large number of numerical functions that can operate on these arrays. If you have experience with Matlab then numpy will feel familiar to you.\n",
    "- **pandas**: pandas is a python library that is very helpful for data manipulation and analysis. The data structures employed using pandas enable rapid processing of data tables and time series. You can think of pandas as providing MS Excel-like functionality in python.\n",
    "- **matplotlib**: matplotlib is a plotting library in python that was designed to support numpy outputs. In particular, pyplot is a module of matplotlib that closely resembles the plotting features of Matlab. matplotlib also has several toolkits attached to it that extend functionality for more complext plotting. There are also a few numerical functions included in matplotlib that you may occasionally use."
   ]
  },
  {
   "cell_type": "code",
   "execution_count": 1,
   "metadata": {
    "collapsed": true
   },
   "outputs": [],
   "source": [
    "%matplotlib inline\n",
    "# Basic data science libraries\n",
    "import numpy as np\n",
    "import pandas as pd\n",
    "import matplotlib.pyplot as plt"
   ]
  },
  {
   "cell_type": "markdown",
   "metadata": {},
   "source": [
    "## 1.3 Grab Data"
   ]
  },
  {
   "cell_type": "markdown",
   "metadata": {},
   "source": [
    "For this exercise we are going to use results data from recent Boston Marathons. Our first step will be to grab the data and put it into a pandas DataFrame. We are going to pull the data from http://boston.r.mikatiming.de/2017. Here is what the data looks like in a web browser"
   ]
  },
  {
   "cell_type": "markdown",
   "metadata": {},
   "source": [
    "![title](BM_screenshot.png)"
   ]
  },
  {
   "cell_type": "markdown",
   "metadata": {},
   "source": [
    " To scrape this data off the web we will use the requests and beautiful soup libraries in python."
   ]
  },
  {
   "cell_type": "code",
   "execution_count": 2,
   "metadata": {
    "collapsed": true
   },
   "outputs": [],
   "source": [
    "# web-scraping libraries\n",
    "import requests\n",
    "from bs4 import BeautifulSoup"
   ]
  },
  {
   "cell_type": "markdown",
   "metadata": {},
   "source": [
    "Lets pull data from the 2017 race for males."
   ]
  },
  {
   "cell_type": "code",
   "execution_count": 3,
   "metadata": {
    "collapsed": true
   },
   "outputs": [],
   "source": [
    "# set search parameters\n",
    "year = 2017\n",
    "gender = 'M'"
   ]
  },
  {
   "cell_type": "markdown",
   "metadata": {},
   "source": [
    "A closer look at the web url provides clues on how to scrape. Here is the url if I click to the second page of results."
   ]
  },
  {
   "cell_type": "markdown",
   "metadata": {},
   "source": [
    "![title](BM_screenshot2.png)"
   ]
  },
  {
   "cell_type": "markdown",
   "metadata": {
    "collapsed": true
   },
   "source": [
    "We will want to grab first 10,000 results. If you look at the link above you will notice that results are posted to the web-page in 1,000 increments. So, we'll need to go through 10 pages of results."
   ]
  },
  {
   "cell_type": "markdown",
   "metadata": {},
   "source": [
    "Lets also put this process in a python function so we can re-use it as needed in our analysis"
   ]
  },
  {
   "cell_type": "code",
   "execution_count": 4,
   "metadata": {
    "collapsed": false
   },
   "outputs": [],
   "source": [
    "def scrape_bostonresults(year, gender):\n",
    "    \"\"\"\n",
    "    Pulls Boston Marathon\n",
    "    results for year specified\n",
    "    Returns data in a pandas DataFrame\n",
    "    \"\"\"\n",
    "    out_data = []\n",
    "    for ii in np.arange(1, 10):\n",
    "        # create url\n",
    "        base_url = \"http://boston.r.mikatiming.de/%i/?page=%i\" % (year, ii)\n",
    "        post_url = \"&event=R&num_results=1000&pid=list&search%5Bsex%5D\"\n",
    "        gender_url = \"=%s\" % gender\n",
    "        url = base_url + post_url + gender_url\n",
    "\n",
    "        # pull web-site data\n",
    "        r = requests.get(url)\n",
    "        # soupify site data\n",
    "        soup = BeautifulSoup(r.text)\n",
    "        # all results are in html table with tag <tr>\n",
    "        sub_data = soup.findAll(name=\"tr\")\n",
    "\n",
    "        # 1000 results per page\n",
    "        # first row is table header\n",
    "        # so skip it\n",
    "        for jj in np.arange(1, 1001):\n",
    "            try:\n",
    "                # row of data\n",
    "                result = sub_data[jj]\n",
    "                # data is delimited by the \\n character\n",
    "                split_result = result.text.split('\\n')\n",
    "                # overall finish spot\n",
    "                overall = int(split_result[1])\n",
    "                # gender finish spot\n",
    "                gender = int(split_result[2])\n",
    "                # age division finish spot\n",
    "                division = int(split_result[3])\n",
    "                # racers name\n",
    "                name = split_result[4][2:]\n",
    "                # half split in string format\n",
    "                half = split_result[6]\n",
    "                # full split in string format\n",
    "                full = split_result[8]\n",
    "                # convert half split to mins\n",
    "                half_mins = int(half[0:2]) * 60 + int(half[3:5]) + int(half[6:8]) / 60.\n",
    "                # convert full race time to mins\n",
    "                full_mins = int(full[0:2]) * 60 + int(full[3:5]) + int(full[6:8]) / 60.\n",
    "                # compute second half split\n",
    "                half2_mins = full_mins - half_mins\n",
    "                # \"split\" time in minutes\n",
    "                race_split = half2_mins - half_mins\n",
    "                out_data.append((overall, gender, division, name, half, full, half_mins, full_mins, half2_mins, race_split))\n",
    "            except ValueError:\n",
    "                # there are a few bad rows\n",
    "                # not many so just ignore and\n",
    "                # alert the user\n",
    "                print 'Bad row'\n",
    "        # Output statement\n",
    "        print 'Through year %i and page %i' % (year, ii)\n",
    "    df = pd.DataFrame(data=out_data, columns=(('overall', 'gender', 'division', 'name', 'half', 'full', 'half_mins', 'full_mins', 'second_half_mins', 'race_split')))\n",
    "    return df"
   ]
  },
  {
   "cell_type": "markdown",
   "metadata": {},
   "source": [
    "Lets pull the data and look at the output"
   ]
  },
  {
   "cell_type": "code",
   "execution_count": 6,
   "metadata": {
    "collapsed": false
   },
   "outputs": [
    {
     "name": "stdout",
     "output_type": "stream",
     "text": [
      "Through year 2017 and page 1\n",
      "Bad row\n",
      "Through year 2017 and page 2\n",
      "Through year 2017 and page 3\n",
      "Through year 2017 and page 4\n",
      "Bad row\n",
      "Bad row\n",
      "Through year 2017 and page 5\n",
      "Through year 2017 and page 6\n",
      "Through year 2017 and page 7\n",
      "Bad row\n",
      "Through year 2017 and page 8\n",
      "Through year 2017 and page 9\n"
     ]
    },
    {
     "data": {
      "text/html": [
       "<div>\n",
       "<table border=\"1\" class=\"dataframe\">\n",
       "  <thead>\n",
       "    <tr style=\"text-align: right;\">\n",
       "      <th></th>\n",
       "      <th>overall</th>\n",
       "      <th>gender</th>\n",
       "      <th>division</th>\n",
       "      <th>name</th>\n",
       "      <th>half</th>\n",
       "      <th>full</th>\n",
       "      <th>half_mins</th>\n",
       "      <th>full_mins</th>\n",
       "      <th>second_half_mins</th>\n",
       "      <th>race_split</th>\n",
       "    </tr>\n",
       "  </thead>\n",
       "  <tbody>\n",
       "    <tr>\n",
       "      <th>0</th>\n",
       "      <td>1</td>\n",
       "      <td>1</td>\n",
       "      <td>1</td>\n",
       "      <td>Kirui, Geoffrey (KEN)</td>\n",
       "      <td>01:04:35</td>\n",
       "      <td>02:09:37</td>\n",
       "      <td>64.583333</td>\n",
       "      <td>129.616667</td>\n",
       "      <td>65.033333</td>\n",
       "      <td>0.450000</td>\n",
       "    </tr>\n",
       "    <tr>\n",
       "      <th>1</th>\n",
       "      <td>2</td>\n",
       "      <td>2</td>\n",
       "      <td>2</td>\n",
       "      <td>Rupp, Galen (USA)</td>\n",
       "      <td>01:04:35</td>\n",
       "      <td>02:09:58</td>\n",
       "      <td>64.583333</td>\n",
       "      <td>129.966667</td>\n",
       "      <td>65.383333</td>\n",
       "      <td>0.800000</td>\n",
       "    </tr>\n",
       "    <tr>\n",
       "      <th>2</th>\n",
       "      <td>3</td>\n",
       "      <td>3</td>\n",
       "      <td>3</td>\n",
       "      <td>Osako, Suguru (JPN)</td>\n",
       "      <td>01:04:36</td>\n",
       "      <td>02:10:28</td>\n",
       "      <td>64.600000</td>\n",
       "      <td>130.466667</td>\n",
       "      <td>65.866667</td>\n",
       "      <td>1.266667</td>\n",
       "    </tr>\n",
       "    <tr>\n",
       "      <th>3</th>\n",
       "      <td>4</td>\n",
       "      <td>4</td>\n",
       "      <td>4</td>\n",
       "      <td>Biwott, Shadrack (USA)</td>\n",
       "      <td>01:04:45</td>\n",
       "      <td>02:12:08</td>\n",
       "      <td>64.750000</td>\n",
       "      <td>132.133333</td>\n",
       "      <td>67.383333</td>\n",
       "      <td>2.633333</td>\n",
       "    </tr>\n",
       "    <tr>\n",
       "      <th>4</th>\n",
       "      <td>5</td>\n",
       "      <td>5</td>\n",
       "      <td>5</td>\n",
       "      <td>Chebet, Wilson (KEN)</td>\n",
       "      <td>01:04:35</td>\n",
       "      <td>02:12:35</td>\n",
       "      <td>64.583333</td>\n",
       "      <td>132.583333</td>\n",
       "      <td>68.000000</td>\n",
       "      <td>3.416667</td>\n",
       "    </tr>\n",
       "    <tr>\n",
       "      <th>5</th>\n",
       "      <td>6</td>\n",
       "      <td>6</td>\n",
       "      <td>1</td>\n",
       "      <td>Abdirahman, Abdi (USA)</td>\n",
       "      <td>01:04:35</td>\n",
       "      <td>02:12:45</td>\n",
       "      <td>64.583333</td>\n",
       "      <td>132.750000</td>\n",
       "      <td>68.166667</td>\n",
       "      <td>3.583333</td>\n",
       "    </tr>\n",
       "    <tr>\n",
       "      <th>6</th>\n",
       "      <td>7</td>\n",
       "      <td>7</td>\n",
       "      <td>6</td>\n",
       "      <td>Maiyo, Augustus (USA)</td>\n",
       "      <td>01:04:36</td>\n",
       "      <td>02:13:16</td>\n",
       "      <td>64.600000</td>\n",
       "      <td>133.266667</td>\n",
       "      <td>68.666667</td>\n",
       "      <td>4.066667</td>\n",
       "    </tr>\n",
       "    <tr>\n",
       "      <th>7</th>\n",
       "      <td>8</td>\n",
       "      <td>8</td>\n",
       "      <td>7</td>\n",
       "      <td>Sefir, Dino (ETH)</td>\n",
       "      <td>01:06:04</td>\n",
       "      <td>02:14:26</td>\n",
       "      <td>66.066667</td>\n",
       "      <td>134.433333</td>\n",
       "      <td>68.366667</td>\n",
       "      <td>2.300000</td>\n",
       "    </tr>\n",
       "    <tr>\n",
       "      <th>8</th>\n",
       "      <td>9</td>\n",
       "      <td>9</td>\n",
       "      <td>8</td>\n",
       "      <td>Puskedra, Luke (USA)</td>\n",
       "      <td>01:04:53</td>\n",
       "      <td>02:14:45</td>\n",
       "      <td>64.883333</td>\n",
       "      <td>134.750000</td>\n",
       "      <td>69.866667</td>\n",
       "      <td>4.983333</td>\n",
       "    </tr>\n",
       "    <tr>\n",
       "      <th>9</th>\n",
       "      <td>10</td>\n",
       "      <td>10</td>\n",
       "      <td>9</td>\n",
       "      <td>Ward, Jared (USA)</td>\n",
       "      <td>01:04:53</td>\n",
       "      <td>02:15:28</td>\n",
       "      <td>64.883333</td>\n",
       "      <td>135.466667</td>\n",
       "      <td>70.583333</td>\n",
       "      <td>5.700000</td>\n",
       "    </tr>\n",
       "  </tbody>\n",
       "</table>\n",
       "</div>"
      ],
      "text/plain": [
       "   overall  gender  division                    name      half      full  \\\n",
       "0        1       1         1   Kirui, Geoffrey (KEN)  01:04:35  02:09:37   \n",
       "1        2       2         2       Rupp, Galen (USA)  01:04:35  02:09:58   \n",
       "2        3       3         3     Osako, Suguru (JPN)  01:04:36  02:10:28   \n",
       "3        4       4         4  Biwott, Shadrack (USA)  01:04:45  02:12:08   \n",
       "4        5       5         5    Chebet, Wilson (KEN)  01:04:35  02:12:35   \n",
       "5        6       6         1  Abdirahman, Abdi (USA)  01:04:35  02:12:45   \n",
       "6        7       7         6   Maiyo, Augustus (USA)  01:04:36  02:13:16   \n",
       "7        8       8         7       Sefir, Dino (ETH)  01:06:04  02:14:26   \n",
       "8        9       9         8    Puskedra, Luke (USA)  01:04:53  02:14:45   \n",
       "9       10      10         9       Ward, Jared (USA)  01:04:53  02:15:28   \n",
       "\n",
       "   half_mins   full_mins  second_half_mins  race_split  \n",
       "0  64.583333  129.616667         65.033333    0.450000  \n",
       "1  64.583333  129.966667         65.383333    0.800000  \n",
       "2  64.600000  130.466667         65.866667    1.266667  \n",
       "3  64.750000  132.133333         67.383333    2.633333  \n",
       "4  64.583333  132.583333         68.000000    3.416667  \n",
       "5  64.583333  132.750000         68.166667    3.583333  \n",
       "6  64.600000  133.266667         68.666667    4.066667  \n",
       "7  66.066667  134.433333         68.366667    2.300000  \n",
       "8  64.883333  134.750000         69.866667    4.983333  \n",
       "9  64.883333  135.466667         70.583333    5.700000  "
      ]
     },
     "execution_count": 6,
     "metadata": {},
     "output_type": "execute_result"
    }
   ],
   "source": [
    "df = scrape_bostonresults(year, gender)\n",
    "df.head(10)"
   ]
  },
  {
   "cell_type": "markdown",
   "metadata": {},
   "source": [
    "## 1.4 Data Science Studies"
   ]
  },
  {
   "cell_type": "markdown",
   "metadata": {},
   "source": [
    "### 1.4.1 Fastest Names"
   ]
  },
  {
   "cell_type": "markdown",
   "metadata": {},
   "source": [
    "One important job function of a data scientist is the ability to summarize large datasets into interesting results for an audience.\n",
    "\n",
    "In this example we will mine the 2017 Boston Marathon results to identify the fastest \"teams\", grouped by names. Let's define a team as three individuals with the same first name and we want to see rankings/results of the fastest teams.\n",
    "\n",
    "To start we note that the \"name\" column contains both names of the runner. We need to isolate the first name of each result so we can group and compile by that value. Since each name follows a pattern of \"LASTNAME, FIRSTNAME (COUNTRY ABBREV)\" we can use python to take advantage of that pattern and pull out the individuals first name. We can split the character string by the comma and the remove the last 6 characters (i.e., the country abbreviation) and then isolate the runners first name. We'll store that value in the DataFrame"
   ]
  },
  {
   "cell_type": "code",
   "execution_count": 7,
   "metadata": {
    "collapsed": false
   },
   "outputs": [
    {
     "data": {
      "text/html": [
       "<div>\n",
       "<table border=\"1\" class=\"dataframe\">\n",
       "  <thead>\n",
       "    <tr style=\"text-align: right;\">\n",
       "      <th></th>\n",
       "      <th>overall</th>\n",
       "      <th>gender</th>\n",
       "      <th>division</th>\n",
       "      <th>name</th>\n",
       "      <th>half</th>\n",
       "      <th>full</th>\n",
       "      <th>half_mins</th>\n",
       "      <th>full_mins</th>\n",
       "      <th>second_half_mins</th>\n",
       "      <th>race_split</th>\n",
       "      <th>first_names</th>\n",
       "    </tr>\n",
       "  </thead>\n",
       "  <tbody>\n",
       "    <tr>\n",
       "      <th>0</th>\n",
       "      <td>1</td>\n",
       "      <td>1</td>\n",
       "      <td>1</td>\n",
       "      <td>Kirui, Geoffrey (KEN)</td>\n",
       "      <td>01:04:35</td>\n",
       "      <td>02:09:37</td>\n",
       "      <td>64.583333</td>\n",
       "      <td>129.616667</td>\n",
       "      <td>65.033333</td>\n",
       "      <td>0.450000</td>\n",
       "      <td>Geoffrey</td>\n",
       "    </tr>\n",
       "    <tr>\n",
       "      <th>1</th>\n",
       "      <td>2</td>\n",
       "      <td>2</td>\n",
       "      <td>2</td>\n",
       "      <td>Rupp, Galen (USA)</td>\n",
       "      <td>01:04:35</td>\n",
       "      <td>02:09:58</td>\n",
       "      <td>64.583333</td>\n",
       "      <td>129.966667</td>\n",
       "      <td>65.383333</td>\n",
       "      <td>0.800000</td>\n",
       "      <td>Galen</td>\n",
       "    </tr>\n",
       "    <tr>\n",
       "      <th>2</th>\n",
       "      <td>3</td>\n",
       "      <td>3</td>\n",
       "      <td>3</td>\n",
       "      <td>Osako, Suguru (JPN)</td>\n",
       "      <td>01:04:36</td>\n",
       "      <td>02:10:28</td>\n",
       "      <td>64.600000</td>\n",
       "      <td>130.466667</td>\n",
       "      <td>65.866667</td>\n",
       "      <td>1.266667</td>\n",
       "      <td>Suguru</td>\n",
       "    </tr>\n",
       "    <tr>\n",
       "      <th>3</th>\n",
       "      <td>4</td>\n",
       "      <td>4</td>\n",
       "      <td>4</td>\n",
       "      <td>Biwott, Shadrack (USA)</td>\n",
       "      <td>01:04:45</td>\n",
       "      <td>02:12:08</td>\n",
       "      <td>64.750000</td>\n",
       "      <td>132.133333</td>\n",
       "      <td>67.383333</td>\n",
       "      <td>2.633333</td>\n",
       "      <td>Shadrack</td>\n",
       "    </tr>\n",
       "    <tr>\n",
       "      <th>4</th>\n",
       "      <td>5</td>\n",
       "      <td>5</td>\n",
       "      <td>5</td>\n",
       "      <td>Chebet, Wilson (KEN)</td>\n",
       "      <td>01:04:35</td>\n",
       "      <td>02:12:35</td>\n",
       "      <td>64.583333</td>\n",
       "      <td>132.583333</td>\n",
       "      <td>68.000000</td>\n",
       "      <td>3.416667</td>\n",
       "      <td>Wilson</td>\n",
       "    </tr>\n",
       "    <tr>\n",
       "      <th>5</th>\n",
       "      <td>6</td>\n",
       "      <td>6</td>\n",
       "      <td>1</td>\n",
       "      <td>Abdirahman, Abdi (USA)</td>\n",
       "      <td>01:04:35</td>\n",
       "      <td>02:12:45</td>\n",
       "      <td>64.583333</td>\n",
       "      <td>132.750000</td>\n",
       "      <td>68.166667</td>\n",
       "      <td>3.583333</td>\n",
       "      <td>Abdi</td>\n",
       "    </tr>\n",
       "    <tr>\n",
       "      <th>6</th>\n",
       "      <td>7</td>\n",
       "      <td>7</td>\n",
       "      <td>6</td>\n",
       "      <td>Maiyo, Augustus (USA)</td>\n",
       "      <td>01:04:36</td>\n",
       "      <td>02:13:16</td>\n",
       "      <td>64.600000</td>\n",
       "      <td>133.266667</td>\n",
       "      <td>68.666667</td>\n",
       "      <td>4.066667</td>\n",
       "      <td>Augustus</td>\n",
       "    </tr>\n",
       "    <tr>\n",
       "      <th>7</th>\n",
       "      <td>8</td>\n",
       "      <td>8</td>\n",
       "      <td>7</td>\n",
       "      <td>Sefir, Dino (ETH)</td>\n",
       "      <td>01:06:04</td>\n",
       "      <td>02:14:26</td>\n",
       "      <td>66.066667</td>\n",
       "      <td>134.433333</td>\n",
       "      <td>68.366667</td>\n",
       "      <td>2.300000</td>\n",
       "      <td>Dino</td>\n",
       "    </tr>\n",
       "    <tr>\n",
       "      <th>8</th>\n",
       "      <td>9</td>\n",
       "      <td>9</td>\n",
       "      <td>8</td>\n",
       "      <td>Puskedra, Luke (USA)</td>\n",
       "      <td>01:04:53</td>\n",
       "      <td>02:14:45</td>\n",
       "      <td>64.883333</td>\n",
       "      <td>134.750000</td>\n",
       "      <td>69.866667</td>\n",
       "      <td>4.983333</td>\n",
       "      <td>Luke</td>\n",
       "    </tr>\n",
       "    <tr>\n",
       "      <th>9</th>\n",
       "      <td>10</td>\n",
       "      <td>10</td>\n",
       "      <td>9</td>\n",
       "      <td>Ward, Jared (USA)</td>\n",
       "      <td>01:04:53</td>\n",
       "      <td>02:15:28</td>\n",
       "      <td>64.883333</td>\n",
       "      <td>135.466667</td>\n",
       "      <td>70.583333</td>\n",
       "      <td>5.700000</td>\n",
       "      <td>Jared</td>\n",
       "    </tr>\n",
       "  </tbody>\n",
       "</table>\n",
       "</div>"
      ],
      "text/plain": [
       "   overall  gender  division                    name      half      full  \\\n",
       "0        1       1         1   Kirui, Geoffrey (KEN)  01:04:35  02:09:37   \n",
       "1        2       2         2       Rupp, Galen (USA)  01:04:35  02:09:58   \n",
       "2        3       3         3     Osako, Suguru (JPN)  01:04:36  02:10:28   \n",
       "3        4       4         4  Biwott, Shadrack (USA)  01:04:45  02:12:08   \n",
       "4        5       5         5    Chebet, Wilson (KEN)  01:04:35  02:12:35   \n",
       "5        6       6         1  Abdirahman, Abdi (USA)  01:04:35  02:12:45   \n",
       "6        7       7         6   Maiyo, Augustus (USA)  01:04:36  02:13:16   \n",
       "7        8       8         7       Sefir, Dino (ETH)  01:06:04  02:14:26   \n",
       "8        9       9         8    Puskedra, Luke (USA)  01:04:53  02:14:45   \n",
       "9       10      10         9       Ward, Jared (USA)  01:04:53  02:15:28   \n",
       "\n",
       "   half_mins   full_mins  second_half_mins  race_split first_names  \n",
       "0  64.583333  129.616667         65.033333    0.450000    Geoffrey  \n",
       "1  64.583333  129.966667         65.383333    0.800000       Galen  \n",
       "2  64.600000  130.466667         65.866667    1.266667      Suguru  \n",
       "3  64.750000  132.133333         67.383333    2.633333    Shadrack  \n",
       "4  64.583333  132.583333         68.000000    3.416667      Wilson  \n",
       "5  64.583333  132.750000         68.166667    3.583333        Abdi  \n",
       "6  64.600000  133.266667         68.666667    4.066667    Augustus  \n",
       "7  66.066667  134.433333         68.366667    2.300000        Dino  \n",
       "8  64.883333  134.750000         69.866667    4.983333        Luke  \n",
       "9  64.883333  135.466667         70.583333    5.700000       Jared  "
      ]
     },
     "execution_count": 7,
     "metadata": {},
     "output_type": "execute_result"
    }
   ],
   "source": [
    "df['first_names'] = [row[1]['name'].split(',')[1][:-6] for row in df.iterrows()]\n",
    "df.head(10)"
   ]
  },
  {
   "cell_type": "markdown",
   "metadata": {},
   "source": [
    "Next we can initialize a dictionary where we'll store the team performances. \"teams\" will be a python dictionary indexed by first name (i.e., the team name) we'll store two floats in the values entry. The first will be a count of how many members are already on the team, and the second will be their cumulative finishing time."
   ]
  },
  {
   "cell_type": "code",
   "execution_count": 8,
   "metadata": {
    "collapsed": true
   },
   "outputs": [],
   "source": [
    "teams ={}"
   ]
  },
  {
   "cell_type": "markdown",
   "metadata": {},
   "source": [
    "We can take advantage of the dataset being ordered by fastest runners and loop through each row. For each row we will check to see if the team (remember, team membership is governed by first name) already has filled up with three fast runners. If not, we will add the runners time to the team. Else, we will move on to the next row."
   ]
  },
  {
   "cell_type": "code",
   "execution_count": 9,
   "metadata": {
    "collapsed": true
   },
   "outputs": [],
   "source": [
    "# loop through each row in the DataFrame\n",
    "for row in df.iterrows():\n",
    "    # get the first name\n",
    "    first_name = row[1]['first_names']\n",
    "    # get the finishing time\n",
    "    time_min = row[1]['full_mins']\n",
    "    # has a team been created for this name?\n",
    "    if teams.get(first_name):\n",
    "        # get the number of members already on this team\n",
    "        # based on scoring rules we only want\n",
    "        # the first three finishers to count toward the \n",
    "        # team results\n",
    "        team_ct = teams.get(first_name)[0]\n",
    "        # are their already three finishers on the team?\n",
    "        if team_ct < 3:\n",
    "            # add this runners result to the team\n",
    "            teams[first_name][0] += 1\n",
    "            teams[first_name][1] += time_min\n",
    "    else:\n",
    "        # this runner is the first finisher of his name\n",
    "        # so create a team for his name\n",
    "        teams[first_name] = [1, time_min]"
   ]
  },
  {
   "cell_type": "markdown",
   "metadata": {},
   "source": [
    "The python dictionary \"teams\" has some teams that did not have three finishers in it. Let's go through teams, check to make sure their are 3 members and convert the data to a python list (and then to a pandas dataframe)"
   ]
  },
  {
   "cell_type": "code",
   "execution_count": 10,
   "metadata": {
    "collapsed": false
   },
   "outputs": [
    {
     "data": {
      "text/html": [
       "<div>\n",
       "<table border=\"1\" class=\"dataframe\">\n",
       "  <thead>\n",
       "    <tr style=\"text-align: right;\">\n",
       "      <th></th>\n",
       "      <th>Name</th>\n",
       "      <th>Count</th>\n",
       "      <th>Time</th>\n",
       "    </tr>\n",
       "  </thead>\n",
       "  <tbody>\n",
       "    <tr>\n",
       "      <th>0</th>\n",
       "      <td>Xiaodong</td>\n",
       "      <td>3</td>\n",
       "      <td>623.266667</td>\n",
       "    </tr>\n",
       "    <tr>\n",
       "      <th>1</th>\n",
       "      <td>Fernando</td>\n",
       "      <td>3</td>\n",
       "      <td>536.083333</td>\n",
       "    </tr>\n",
       "    <tr>\n",
       "      <th>2</th>\n",
       "      <td>Dean</td>\n",
       "      <td>3</td>\n",
       "      <td>603.533333</td>\n",
       "    </tr>\n",
       "    <tr>\n",
       "      <th>3</th>\n",
       "      <td>Felix</td>\n",
       "      <td>3</td>\n",
       "      <td>536.366667</td>\n",
       "    </tr>\n",
       "    <tr>\n",
       "      <th>4</th>\n",
       "      <td>George</td>\n",
       "      <td>3</td>\n",
       "      <td>540.800000</td>\n",
       "    </tr>\n",
       "    <tr>\n",
       "      <th>5</th>\n",
       "      <td>Simon</td>\n",
       "      <td>3</td>\n",
       "      <td>543.483333</td>\n",
       "    </tr>\n",
       "    <tr>\n",
       "      <th>6</th>\n",
       "      <td>Douglas</td>\n",
       "      <td>3</td>\n",
       "      <td>504.383333</td>\n",
       "    </tr>\n",
       "    <tr>\n",
       "      <th>7</th>\n",
       "      <td>Alex</td>\n",
       "      <td>3</td>\n",
       "      <td>502.116667</td>\n",
       "    </tr>\n",
       "    <tr>\n",
       "      <th>8</th>\n",
       "      <td>Jocelyn</td>\n",
       "      <td>3</td>\n",
       "      <td>681.516667</td>\n",
       "    </tr>\n",
       "    <tr>\n",
       "      <th>9</th>\n",
       "      <td>Sebastien</td>\n",
       "      <td>3</td>\n",
       "      <td>509.383333</td>\n",
       "    </tr>\n",
       "  </tbody>\n",
       "</table>\n",
       "</div>"
      ],
      "text/plain": [
       "         Name  Count        Time\n",
       "0    Xiaodong      3  623.266667\n",
       "1    Fernando      3  536.083333\n",
       "2        Dean      3  603.533333\n",
       "3       Felix      3  536.366667\n",
       "4      George      3  540.800000\n",
       "5       Simon      3  543.483333\n",
       "6     Douglas      3  504.383333\n",
       "7        Alex      3  502.116667\n",
       "8     Jocelyn      3  681.516667\n",
       "9   Sebastien      3  509.383333"
      ]
     },
     "execution_count": 10,
     "metadata": {},
     "output_type": "execute_result"
    }
   ],
   "source": [
    "competing_teams = []\n",
    "# loop through each element in the dictionary\n",
    "for k in teams.keys():\n",
    "    # did the team have 3 finishers?\n",
    "    if teams[k][0] == 3:\n",
    "        # put the data in a list\n",
    "        competing_teams.append((k, teams[k][0], teams[k][1]))\n",
    "# convert the data to pandas dataframe\n",
    "df_firstNameTeams = pd.DataFrame(data=competing_teams, columns=(('Name', 'Count', 'Time')))\n",
    "df_firstNameTeams.head(10)"
   ]
  },
  {
   "cell_type": "markdown",
   "metadata": {},
   "source": [
    "We are almost finished. The last step is to sort the DataFrame by the cumulative time."
   ]
  },
  {
   "cell_type": "code",
   "execution_count": 11,
   "metadata": {
    "collapsed": false
   },
   "outputs": [
    {
     "data": {
      "text/html": [
       "<div>\n",
       "<table border=\"1\" class=\"dataframe\">\n",
       "  <thead>\n",
       "    <tr style=\"text-align: right;\">\n",
       "      <th></th>\n",
       "      <th>Name</th>\n",
       "      <th>Count</th>\n",
       "      <th>Time</th>\n",
       "    </tr>\n",
       "  </thead>\n",
       "  <tbody>\n",
       "    <tr>\n",
       "      <th>408</th>\n",
       "      <td>Luke</td>\n",
       "      <td>3</td>\n",
       "      <td>442.866667</td>\n",
       "    </tr>\n",
       "    <tr>\n",
       "      <th>133</th>\n",
       "      <td>Sean</td>\n",
       "      <td>3</td>\n",
       "      <td>445.450000</td>\n",
       "    </tr>\n",
       "    <tr>\n",
       "      <th>74</th>\n",
       "      <td>Christopher</td>\n",
       "      <td>3</td>\n",
       "      <td>447.333333</td>\n",
       "    </tr>\n",
       "    <tr>\n",
       "      <th>362</th>\n",
       "      <td>Eric</td>\n",
       "      <td>3</td>\n",
       "      <td>448.183333</td>\n",
       "    </tr>\n",
       "    <tr>\n",
       "      <th>346</th>\n",
       "      <td>Matthew</td>\n",
       "      <td>3</td>\n",
       "      <td>452.266667</td>\n",
       "    </tr>\n",
       "    <tr>\n",
       "      <th>81</th>\n",
       "      <td>Ryan</td>\n",
       "      <td>3</td>\n",
       "      <td>456.883333</td>\n",
       "    </tr>\n",
       "    <tr>\n",
       "      <th>262</th>\n",
       "      <td>Brian</td>\n",
       "      <td>3</td>\n",
       "      <td>457.016667</td>\n",
       "    </tr>\n",
       "    <tr>\n",
       "      <th>353</th>\n",
       "      <td>Scott</td>\n",
       "      <td>3</td>\n",
       "      <td>458.783333</td>\n",
       "    </tr>\n",
       "    <tr>\n",
       "      <th>369</th>\n",
       "      <td>David</td>\n",
       "      <td>3</td>\n",
       "      <td>458.916667</td>\n",
       "    </tr>\n",
       "    <tr>\n",
       "      <th>398</th>\n",
       "      <td>Michael</td>\n",
       "      <td>3</td>\n",
       "      <td>459.350000</td>\n",
       "    </tr>\n",
       "    <tr>\n",
       "      <th>36</th>\n",
       "      <td>Jason</td>\n",
       "      <td>3</td>\n",
       "      <td>459.716667</td>\n",
       "    </tr>\n",
       "    <tr>\n",
       "      <th>108</th>\n",
       "      <td>Jordan</td>\n",
       "      <td>3</td>\n",
       "      <td>460.483333</td>\n",
       "    </tr>\n",
       "    <tr>\n",
       "      <th>329</th>\n",
       "      <td>Patrick</td>\n",
       "      <td>3</td>\n",
       "      <td>462.950000</td>\n",
       "    </tr>\n",
       "    <tr>\n",
       "      <th>138</th>\n",
       "      <td>Jacob</td>\n",
       "      <td>3</td>\n",
       "      <td>464.800000</td>\n",
       "    </tr>\n",
       "    <tr>\n",
       "      <th>86</th>\n",
       "      <td>Stephen</td>\n",
       "      <td>3</td>\n",
       "      <td>467.516667</td>\n",
       "    </tr>\n",
       "    <tr>\n",
       "      <th>22</th>\n",
       "      <td>Alexander</td>\n",
       "      <td>3</td>\n",
       "      <td>467.900000</td>\n",
       "    </tr>\n",
       "    <tr>\n",
       "      <th>413</th>\n",
       "      <td>Sam</td>\n",
       "      <td>3</td>\n",
       "      <td>468.933333</td>\n",
       "    </tr>\n",
       "    <tr>\n",
       "      <th>251</th>\n",
       "      <td>Thomas</td>\n",
       "      <td>3</td>\n",
       "      <td>470.716667</td>\n",
       "    </tr>\n",
       "    <tr>\n",
       "      <th>96</th>\n",
       "      <td>Andrew</td>\n",
       "      <td>3</td>\n",
       "      <td>470.916667</td>\n",
       "    </tr>\n",
       "    <tr>\n",
       "      <th>198</th>\n",
       "      <td>Peter</td>\n",
       "      <td>3</td>\n",
       "      <td>471.383333</td>\n",
       "    </tr>\n",
       "  </tbody>\n",
       "</table>\n",
       "</div>"
      ],
      "text/plain": [
       "             Name  Count        Time\n",
       "408          Luke      3  442.866667\n",
       "133          Sean      3  445.450000\n",
       "74    Christopher      3  447.333333\n",
       "362          Eric      3  448.183333\n",
       "346       Matthew      3  452.266667\n",
       "81           Ryan      3  456.883333\n",
       "262         Brian      3  457.016667\n",
       "353         Scott      3  458.783333\n",
       "369         David      3  458.916667\n",
       "398       Michael      3  459.350000\n",
       "36          Jason      3  459.716667\n",
       "108        Jordan      3  460.483333\n",
       "329       Patrick      3  462.950000\n",
       "138         Jacob      3  464.800000\n",
       "86        Stephen      3  467.516667\n",
       "22      Alexander      3  467.900000\n",
       "413           Sam      3  468.933333\n",
       "251        Thomas      3  470.716667\n",
       "96         Andrew      3  470.916667\n",
       "198         Peter      3  471.383333"
      ]
     },
     "execution_count": 11,
     "metadata": {},
     "output_type": "execute_result"
    }
   ],
   "source": [
    "df_firstNameTeams.sort_values(by='Time').head(20)"
   ]
  },
  {
   "cell_type": "markdown",
   "metadata": {},
   "source": [
    "As shown above, the fastest first-name teams were Luke, Sean and Christopher. Incredibly, the top 3 runners named Luke averaged 147 minutes apiece, or 2 hours and 27 minutes to finish the marathon!"
   ]
  },
  {
   "cell_type": "markdown",
   "metadata": {},
   "source": [
    "### 1.4.2 Predicting Finishing Time Based on First Half Performance"
   ]
  },
  {
   "cell_type": "markdown",
   "metadata": {},
   "source": [
    "Shifting gears we are interested in creating a model that predicts finishing time of runners based on their first half race performance."
   ]
  },
  {
   "cell_type": "markdown",
   "metadata": {},
   "source": [
    "We will try a linear regression fit on the data. Linear regression fits a linear model to a set of features that map onto a real value. \n",
    "\n",
    "For our first example we have exactly one feature, the runners half race time. We can start by visualizing the data"
   ]
  },
  {
   "cell_type": "code",
   "execution_count": 41,
   "metadata": {
    "collapsed": false
   },
   "outputs": [
    {
     "data": {
      "image/png": "[encoded data removed]",
      "text/plain": [
       "<matplotlib.figure.Figure at 0x10d2bd410>"
      ]
     },
     "metadata": {},
     "output_type": "display_data"
    }
   ],
   "source": [
    "half_times = df['half_mins'].values\n",
    "full_times = df['full_mins'].values\n",
    "plt.scatter(half_times, full_times, s=1, color='g')\n",
    "plt.xlabel('First Half Race Time (min)')\n",
    "plt.ylabel('Full Race Time (min)')\n",
    "plt.xlim(60, 120)\n",
    "plt.ylim(120, 250)\n",
    "plt.show()"
   ]
  },
  {
   "cell_type": "markdown",
   "metadata": {
    "collapsed": true
   },
   "source": [
    "Linear regression is the construction of a linear model. In our case we are building the function $f$ which is dependent on the independent variable $x$, the runners first half race time. The function is linear, i.e., \n",
    "$$ f(x) = mx + b$$\n",
    "For each runner we have the feature $x_i$ and result $y_i$. So, for a given $m$ and $b$ our model residual will be"
   ]
  },
  {
   "cell_type": "markdown",
   "metadata": {
    "collapsed": true
   },
   "source": [
    "\\begin{align}\n",
    "y_1 & = & m x_1 + b \\\\\n",
    "y_2 & = & m x_2 + b \\\\\n",
    "... & & \\\\\n",
    "y_n & = & m x_n + b \\\\\n",
    "\\end{align}"
   ]
  },
  {
   "cell_type": "markdown",
   "metadata": {
    "collapsed": true
   },
   "source": [
    "In matrix form this set of equations looks like\n",
    "\\begin{equation}\n",
    "\\left(\n",
    "    \\begin{array}{c}\n",
    "        y_1 \\\\\n",
    "        y_2 \\\\\n",
    "        ... \\\\\n",
    "        y_n \\\\\n",
    "    \\end{array}\n",
    "\\right) = \n",
    "\\left(\n",
    "    \\begin{array}{cc}\n",
    "        1 & x_1 \\\\\n",
    "        1 & x_2 \\\\\n",
    "        ... & \\\\\n",
    "        1 & x_n \\\\\n",
    "     \\end{array}\n",
    "\\right)\n",
    "\\left(\n",
    "    \\begin{array}{c}\n",
    "        b \\\\\n",
    "        m \\\\\n",
    "    \\end{array}\n",
    "\\right)\n",
    "\\end{equation}"
   ]
  },
  {
   "cell_type": "markdown",
   "metadata": {},
   "source": [
    "If we left-multiply both sides of the equation by the transpose of the data matrix (e.g., the matrix containing the values $x_i$ values) we have"
   ]
  },
  {
   "cell_type": "markdown",
   "metadata": {},
   "source": [
    "\\begin{equation}\n",
    "\\left(\n",
    "    \\begin{array}{cc}\n",
    "        1 & x_1 \\\\\n",
    "        1 & x_2 \\\\\n",
    "        ... & \\\\\n",
    "        1 & x_n \\\\\n",
    "     \\end{array}\n",
    "\\right)^T\n",
    "\\left(\n",
    "    \\begin{array}{c}\n",
    "        y_1 \\\\\n",
    "        y_2 \\\\\n",
    "        ... \\\\\n",
    "        y_n \\\\\n",
    "    \\end{array}\n",
    "\\right) = \n",
    "\\left(\n",
    "    \\begin{array}{cc}\n",
    "        1 & x_1 \\\\\n",
    "        1 & x_2 \\\\\n",
    "        ... & \\\\\n",
    "        1 & x_n \\\\\n",
    "     \\end{array}\n",
    "\\right)^T\n",
    "\\left(\n",
    "    \\begin{array}{cc}\n",
    "        1 & x_1 \\\\\n",
    "        1 & x_2 \\\\\n",
    "        ... & \\\\\n",
    "        1 & x_n \\\\\n",
    "     \\end{array}\n",
    "\\right)\n",
    "\\left(\n",
    "    \\begin{array}{c}\n",
    "        b \\\\\n",
    "        m \\\\\n",
    "    \\end{array}\n",
    "\\right)\n",
    "\\end{equation}"
   ]
  },
  {
   "cell_type": "markdown",
   "metadata": {},
   "source": [
    "The matrix on the right-hand side of the equation is square since it is the product of two matrices, the first being 2 x $n$ and the second being $n$ x 2. As long as the rank of the original data matrix is 2, the matrix created by multiplying itself by it's transpose is invertible and we can left-multiply both sides of the equation by the inverse of the matrix on the right-hand side of the equation. The result is"
   ]
  },
  {
   "cell_type": "markdown",
   "metadata": {},
   "source": [
    "\\begin{equation}\n",
    "\\left(\n",
    "\\left(\n",
    "    \\begin{array}{cc}\n",
    "        1 & x_1 \\\\\n",
    "        1 & x_2 \\\\\n",
    "        ... & \\\\\n",
    "        1 & x_n \\\\\n",
    "     \\end{array}\n",
    "\\right)^T\n",
    "\\left(\n",
    "    \\begin{array}{cc}\n",
    "        1 & x_1 \\\\\n",
    "        1 & x_2 \\\\\n",
    "        ... & \\\\\n",
    "        1 & x_n \\\\\n",
    "     \\end{array}\n",
    "\\right)\n",
    "\\right)^{-1}\n",
    "\\left(\n",
    "    \\begin{array}{cc}\n",
    "        1 & x_1 \\\\\n",
    "        1 & x_2 \\\\\n",
    "        ... & \\\\\n",
    "        1 & x_n \\\\\n",
    "     \\end{array}\n",
    "\\right)^T\n",
    "\\left(\n",
    "    \\begin{array}{c}\n",
    "        y_1 \\\\\n",
    "        y_2 \\\\\n",
    "        ... \\\\\n",
    "        y_n \\\\\n",
    "    \\end{array}\n",
    "\\right) = \n",
    "\\left(\n",
    "    \\begin{array}{c}\n",
    "        b \\\\\n",
    "        m \\\\\n",
    "    \\end{array}\n",
    "\\right)\n",
    "\\end{equation}"
   ]
  },
  {
   "cell_type": "markdown",
   "metadata": {},
   "source": [
    "and we have a closed expression to compute the regression variables $b$ and $m$. This method is also referred to as ordinary least squares, since it can also be derived as a method to minimize the least-squares residual of a linear model passing through the data."
   ]
  },
  {
   "cell_type": "markdown",
   "metadata": {},
   "source": [
    "In python there are already libraries with linear regression equations coded. For this example we will use a popular library with data scientists, sci-kit learn."
   ]
  },
  {
   "cell_type": "code",
   "execution_count": 19,
   "metadata": {
    "collapsed": true
   },
   "outputs": [],
   "source": [
    "from sklearn import linear_model"
   ]
  },
  {
   "cell_type": "markdown",
   "metadata": {},
   "source": [
    "It's very easy in sklearn to instantiate a model"
   ]
  },
  {
   "cell_type": "code",
   "execution_count": 20,
   "metadata": {
    "collapsed": true
   },
   "outputs": [],
   "source": [
    "regression_model = linear_model.LinearRegression()"
   ]
  },
  {
   "cell_type": "markdown",
   "metadata": {},
   "source": [
    "We prepare the data to train the model. sklearn wants the data in numpy arrays (without the 1's that are shown in the derivation above) so we repackage the data to support sklearn and then fit the model to the data."
   ]
  },
  {
   "cell_type": "code",
   "execution_count": 45,
   "metadata": {
    "collapsed": false
   },
   "outputs": [
    {
     "data": {
      "text/plain": [
       "LinearRegression(copy_X=True, fit_intercept=True, n_jobs=1, normalize=False)"
      ]
     },
     "execution_count": 45,
     "metadata": {},
     "output_type": "execute_result"
    }
   ],
   "source": [
    "training_features = np.array([half_times]).transpose()\n",
    "training_response = np.array([full_times]).transpose()\n",
    "regression_model.fit(training_features, training_response)"
   ]
  },
  {
   "cell_type": "markdown",
   "metadata": {},
   "source": [
    "We can now look at the model to see it's fit outputs"
   ]
  },
  {
   "cell_type": "code",
   "execution_count": 46,
   "metadata": {
    "collapsed": false
   },
   "outputs": [
    {
     "name": "stdout",
     "output_type": "stream",
     "text": [
      "('Coefficients: \\n', array([[ 2.08551625]]))\n"
     ]
    }
   ],
   "source": [
    "print('Coefficients: \\n', regression_model.coef_)"
   ]
  },
  {
   "cell_type": "markdown",
   "metadata": {},
   "source": [
    "The coefficient of the model is 2.0855. Since the feature we trained on was the time it took the runners to make it half way through the course we aren't surprised that the value is around 2."
   ]
  },
  {
   "cell_type": "code",
   "execution_count": 47,
   "metadata": {
    "collapsed": false
   },
   "outputs": [
    {
     "name": "stdout",
     "output_type": "stream",
     "text": [
      "('Coefficients: \\n', array([ 6.70358738]))\n"
     ]
    }
   ],
   "source": [
    "print('Coefficients: \\n', regression_model.intercept_)"
   ]
  },
  {
   "cell_type": "markdown",
   "metadata": {},
   "source": [
    "For completeness we can also output the intercept value of the model (i.e., the value of $b$)\n",
    "\n",
    "Lastly, we can overlay our model on the data as a visualization of the results"
   ]
  },
  {
   "cell_type": "code",
   "execution_count": 48,
   "metadata": {
    "collapsed": false
   },
   "outputs": [
    {
     "data": {
      "image/png": "[encoded data removed]",
      "text/plain": [
       "<matplotlib.figure.Figure at 0x10b289e50>"
      ]
     },
     "metadata": {},
     "output_type": "display_data"
    }
   ],
   "source": [
    "plt.scatter(half_times, full_times, s=1, color='g')\n",
    "plt.plot(np.array([half_times]).transpose(),\n",
    "         regression_model.predict(np.array([half_times]).transpose()),\n",
    "         color='blue',\n",
    "         linewidth=1.5)\n",
    "plt.xlabel('First Half Race Time (min)')\n",
    "plt.ylabel('Full Race Time (min)')\n",
    "plt.xlim(60, 120)\n",
    "plt.ylim(120, 250)\n",
    "plt.show()"
   ]
  },
  {
   "cell_type": "code",
   "execution_count": null,
   "metadata": {
    "collapsed": true
   },
   "outputs": [],
   "source": []
  }
 ],
 "metadata": {
  "kernelspec": {
   "display_name": "Python 2",
   "language": "python",
   "name": "python2"
  },
  "language_info": {
   "codemirror_mode": {
    "name": "ipython",
    "version": 2
   },
   "file_extension": ".py",
   "mimetype": "text/x-python",
   "name": "python",
   "nbconvert_exporter": "python",
   "pygments_lexer": "ipython2",
   "version": "2.7.10"
  }
 },
 "nbformat": 4,
 "nbformat_minor": 0
}
