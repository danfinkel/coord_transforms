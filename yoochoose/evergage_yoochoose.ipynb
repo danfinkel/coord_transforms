{
 "cells": [
  {
   "cell_type": "markdown",
   "metadata": {},
   "source": [
    "# Yoochoose Contest\n",
    "#### Dan Finkel\n",
    "#### March 26 2018\n",
    "\n",
    "From the instructions:\n",
    "> Take a look at ​http://recsys.yoochoose.net/challenge.html​. The goal of part 1 of the task is to predict whether a user on a typical e-commerce site will buy an item. Ignore part 2, predicting which items are purchased. There is a dataset provided; download it. You can Ignore the “yoochoose-test.dat” file, as that was used for the challenge submission, which is no longer active.\n",
    "\n",
    "> Tell us a story about these data. Use any tools you wish: Python, R, etc. The dataset is a good size but should be manageable on a modern personal computer. If you have any trouble with the size, work with a sample.\n",
    "\n",
    "> You can submit results in any format you like. If you use Python or R, a Jupyter notebook is ideal. Don’t submit any data back to us. Also note there are two pages in this document; there are ten questions in section 2; don’t miss the questions on page 2.\n",
    "\n",
    "Thanks for all of the guidance. My approach to this exercise will be to\n",
    "1. Read, understand, manipulate and visualize the data\n",
    "2. Engineer features (as needed)\n",
    "3. Build a prediction model and measure performance\n",
    "\n",
    "I will circle back to the questions as we go through the process\n",
    "\n",
    "*Note: In keeping with the stated objective of this exercise, I decided not to look at the solution link for this exercise. Instead I am going to focus on exploring and building an understanding of the problem*"
   ]
  },
  {
   "cell_type": "code",
   "execution_count": 1,
   "metadata": {
    "collapsed": false
   },
   "outputs": [],
   "source": [
    "# Imports and Set-up\n",
    "import pandas as pd\n",
    "import numpy as np\n",
    "import matplotlib.pyplot as plt\n",
    "from datetime import datetime\n",
    "import random\n",
    "\n",
    "# allows for inline plotting\n",
    "%matplotlib inline\n",
    "\n",
    "# pretty plots\n",
    "plt.style.use(\"bmh\")\n",
    "\n",
    "# better sizing for the notebook\n",
    "plt.rcParams['figure.figsize'] = (10, 5)"
   ]
  },
  {
   "cell_type": "markdown",
   "metadata": {},
   "source": [
    "## Step 1: Read, understand, manipulate and visualize the data\n",
    "A few key notes from the instructions\n",
    "\n",
    ">The training data comprises two different files: yoochoose-clicks.dat and yoochoose-buys.dat\n",
    "\n",
    ">1. yoochoose-clicks.dat - Click events. Each record/line in the file has the following fields:\n",
    "    1. Session ID – the id of the session. In one session there are one or many clicks.\n",
    "    2. Timestamp – the time when the click occurred.\n",
    "    3. Item ID – the unique identifier of the item.  \n",
    "    4. Category – the category of the item.\n",
    "\n",
    ">2. yoochoose-buys.dat - Buy events. Each record/line in the file has the following fields:\n",
    "    1. Session ID - the id of the session. In one session there are one or many buying events.\n",
    "    2. Timestamp - the time when the buy occurred.\n",
    "    3. Item ID – the unique identifier of item.\n",
    "    4. Price – the price of the item.\n",
    "    5. Quantity – how many of this item were bought.\n",
    "\n",
    "Lastly, a good note to remember:\n",
    "> The Session ID in yoochoose-buys.dat will always exist in the yoochoose-clicks.dat file – the records with the same Session ID together form the sequence of click events of a certain user during the session. The session could be short (few minutes) or very long (few hours), it could have one click or hundreds of clicks. All depends on the activity of the user.\n",
    "\n",
    "To start, read the data:"
   ]
  },
  {
   "cell_type": "code",
   "execution_count": 2,
   "metadata": {
    "collapsed": false
   },
   "outputs": [
    {
     "name": "stderr",
     "output_type": "stream",
     "text": [
      "/Users/dfinkel/siphonenv/lib/python2.7/site-packages/IPython/core/interactiveshell.py:2902: DtypeWarning: Columns (3) have mixed types. Specify dtype option on import or set low_memory=False.\n",
      "  interactivity=interactivity, compiler=compiler, result=result)\n"
     ]
    }
   ],
   "source": [
    "# Read the data\n",
    "df_clicks = pd.read_csv(\n",
    "    '/Users/dfinkel/proto_dev/data_science/yoochoose/yoochoose-data/yoochoose-clicks.dat',\n",
    "    header=None)\n",
    "\n",
    "# per instructions there are 4 fields on the click data\n",
    "#     Session ID – the id of the session. In one session there are one or many clicks.\n",
    "#     Timestamp – the time when the click occurred.\n",
    "#     Item ID – the unique identifier of the item.\n",
    "#     Category – the category of the item.\n",
    "df_clicks.columns = ('sessionID', 'timestamp', 'itemID', 'category')\n",
    "\n",
    "df_buys = pd.read_csv(\n",
    "    '/Users/dfinkel/proto_dev/data_science/yoochoose/yoochoose-data/yoochoose-buys.dat',\n",
    "    header=None)\n",
    "\n",
    "# per instructions there are 5 fields on the buy data\n",
    "#     Session ID - the id of the session. In one session there are one or many buying events.\n",
    "#     Timestamp - the time when the buy occurred.\n",
    "#     Item ID – the unique identifier of item.\n",
    "#     Price – the price of the item.\n",
    "#     Quantity – how many of this item were bought.\n",
    "df_buys.columns = ('sessionID', 'timestamp', 'itemID', 'price', 'Quantity')\n",
    "\n",
    "# Goin through data I noticed there\n",
    "# \"duplicates\" in the buy data (i.e., same\n",
    "# session, item and quantity). Going to drop \n",
    "# them here - TODO would be also add a time\n",
    "# filter and make sure they aren't different\n",
    "# purchase events\n",
    "df_buys = df_buys.drop_duplicates(['sessionID', 'itemID', 'Quantity'])"
   ]
  },
  {
   "cell_type": "markdown",
   "metadata": {},
   "source": [
    "Next, take a look at the data"
   ]
  },
  {
   "cell_type": "code",
   "execution_count": 3,
   "metadata": {
    "collapsed": false
   },
   "outputs": [
    {
     "data": {
      "text/html": [
       "<div>\n",
       "<table border=\"1\" class=\"dataframe\">\n",
       "  <thead>\n",
       "    <tr style=\"text-align: right;\">\n",
       "      <th></th>\n",
       "      <th>sessionID</th>\n",
       "      <th>timestamp</th>\n",
       "      <th>itemID</th>\n",
       "      <th>category</th>\n",
       "    </tr>\n",
       "  </thead>\n",
       "  <tbody>\n",
       "    <tr>\n",
       "      <th>0</th>\n",
       "      <td>1</td>\n",
       "      <td>2014-04-07T10:51:09.277Z</td>\n",
       "      <td>214536502</td>\n",
       "      <td>0</td>\n",
       "    </tr>\n",
       "    <tr>\n",
       "      <th>1</th>\n",
       "      <td>1</td>\n",
       "      <td>2014-04-07T10:54:09.868Z</td>\n",
       "      <td>214536500</td>\n",
       "      <td>0</td>\n",
       "    </tr>\n",
       "    <tr>\n",
       "      <th>2</th>\n",
       "      <td>1</td>\n",
       "      <td>2014-04-07T10:54:46.998Z</td>\n",
       "      <td>214536506</td>\n",
       "      <td>0</td>\n",
       "    </tr>\n",
       "    <tr>\n",
       "      <th>3</th>\n",
       "      <td>1</td>\n",
       "      <td>2014-04-07T10:57:00.306Z</td>\n",
       "      <td>214577561</td>\n",
       "      <td>0</td>\n",
       "    </tr>\n",
       "    <tr>\n",
       "      <th>4</th>\n",
       "      <td>2</td>\n",
       "      <td>2014-04-07T13:56:37.614Z</td>\n",
       "      <td>214662742</td>\n",
       "      <td>0</td>\n",
       "    </tr>\n",
       "  </tbody>\n",
       "</table>\n",
       "</div>"
      ],
      "text/plain": [
       "   sessionID                 timestamp     itemID category\n",
       "0          1  2014-04-07T10:51:09.277Z  214536502        0\n",
       "1          1  2014-04-07T10:54:09.868Z  214536500        0\n",
       "2          1  2014-04-07T10:54:46.998Z  214536506        0\n",
       "3          1  2014-04-07T10:57:00.306Z  214577561        0\n",
       "4          2  2014-04-07T13:56:37.614Z  214662742        0"
      ]
     },
     "execution_count": 3,
     "metadata": {},
     "output_type": "execute_result"
    }
   ],
   "source": [
    "# show data\n",
    "df_clicks.head()"
   ]
  },
  {
   "cell_type": "code",
   "execution_count": 4,
   "metadata": {
    "collapsed": false
   },
   "outputs": [
    {
     "data": {
      "text/html": [
       "<div>\n",
       "<table border=\"1\" class=\"dataframe\">\n",
       "  <thead>\n",
       "    <tr style=\"text-align: right;\">\n",
       "      <th></th>\n",
       "      <th>sessionID</th>\n",
       "      <th>timestamp</th>\n",
       "      <th>itemID</th>\n",
       "      <th>price</th>\n",
       "      <th>Quantity</th>\n",
       "    </tr>\n",
       "  </thead>\n",
       "  <tbody>\n",
       "    <tr>\n",
       "      <th>0</th>\n",
       "      <td>420374</td>\n",
       "      <td>2014-04-06T18:44:58.314Z</td>\n",
       "      <td>214537888</td>\n",
       "      <td>12462</td>\n",
       "      <td>1</td>\n",
       "    </tr>\n",
       "    <tr>\n",
       "      <th>1</th>\n",
       "      <td>420374</td>\n",
       "      <td>2014-04-06T18:44:58.325Z</td>\n",
       "      <td>214537850</td>\n",
       "      <td>10471</td>\n",
       "      <td>1</td>\n",
       "    </tr>\n",
       "    <tr>\n",
       "      <th>2</th>\n",
       "      <td>281626</td>\n",
       "      <td>2014-04-06T09:40:13.032Z</td>\n",
       "      <td>214535653</td>\n",
       "      <td>1883</td>\n",
       "      <td>1</td>\n",
       "    </tr>\n",
       "    <tr>\n",
       "      <th>3</th>\n",
       "      <td>420368</td>\n",
       "      <td>2014-04-04T06:13:28.848Z</td>\n",
       "      <td>214530572</td>\n",
       "      <td>6073</td>\n",
       "      <td>1</td>\n",
       "    </tr>\n",
       "    <tr>\n",
       "      <th>4</th>\n",
       "      <td>420368</td>\n",
       "      <td>2014-04-04T06:13:28.858Z</td>\n",
       "      <td>214835025</td>\n",
       "      <td>2617</td>\n",
       "      <td>1</td>\n",
       "    </tr>\n",
       "  </tbody>\n",
       "</table>\n",
       "</div>"
      ],
      "text/plain": [
       "   sessionID                 timestamp     itemID  price  Quantity\n",
       "0     420374  2014-04-06T18:44:58.314Z  214537888  12462         1\n",
       "1     420374  2014-04-06T18:44:58.325Z  214537850  10471         1\n",
       "2     281626  2014-04-06T09:40:13.032Z  214535653   1883         1\n",
       "3     420368  2014-04-04T06:13:28.848Z  214530572   6073         1\n",
       "4     420368  2014-04-04T06:13:28.858Z  214835025   2617         1"
      ]
     },
     "execution_count": 4,
     "metadata": {},
     "output_type": "execute_result"
    }
   ],
   "source": [
    "# show data\n",
    "df_buys.head()"
   ]
  },
  {
   "cell_type": "markdown",
   "metadata": {},
   "source": [
    "The first question asked is:\n",
    "> - What is the high-level shape of the data? How many sessions are there? How many result in a purchase? Is that important?\n",
    "\n",
    "A good question that fits well with our stated objective to read and understand the data."
   ]
  },
  {
   "cell_type": "code",
   "execution_count": 5,
   "metadata": {
    "collapsed": false
   },
   "outputs": [
    {
     "name": "stdout",
     "output_type": "stream",
     "text": [
      "There are 9249729 unique click sessions in our training setand 509696 of them have a purchase in them, or 5.22 percent\n"
     ]
    }
   ],
   "source": [
    "# determine click and buy session counts\n",
    "click_sessions_ct = len(df_clicks['sessionID'].unique())\n",
    "buy_sessions_ct = len(df_buys['sessionID'].unique())\n",
    "\n",
    "# print stats\n",
    "print 'There are %i unique click sessions in our training set\\\n",
    "and %i of them have a purchase in them, or %.2f percent' \\\n",
    "        % (click_sessions_ct, buy_sessions_ct,\n",
    "           100.*buy_sessions_ct / (buy_sessions_ct + click_sessions_ct))"
   ]
  },
  {
   "cell_type": "markdown",
   "metadata": {},
   "source": [
    "So 5.22% of sessions result in purchase. That is interesting. I think it's important because we can use it to create labels for sessions. Since we need to predict item purchases in Part 2, let's also go ahead and label the item purchases too."
   ]
  },
  {
   "cell_type": "markdown",
   "metadata": {},
   "source": [
    "**NOTE**: During my first pass I was having cpu trouble engineering features with the full data set. So, I chose to downsample the data for this exercise. I'll be sure to mention this in submission email."
   ]
  },
  {
   "cell_type": "code",
   "execution_count": 6,
   "metadata": {
    "collapsed": false
   },
   "outputs": [],
   "source": [
    "# create labels if session results in a purchase\n",
    "buy_sessionIDs = df_buys['sessionID'].values\n",
    "df_clicks['session_purchase'] = np.where(df_clicks['sessionID'].isin(buy_sessionIDs), 1, 0)\n",
    "\n",
    "# create labels if item is purchased\n",
    "# a little tricky because join is on\n",
    "# session and itemID\n",
    "# Create an index so we can join at the end\n",
    "df_clicks['idx'] = np.arange(len(df_clicks))\n",
    "\n",
    "# merge clicks and busy on session and item\n",
    "df_merge = pd.merge(df_clicks, df_buys, how='inner',\n",
    "                   left_on = ['sessionID', 'itemID'],\n",
    "                   right_on = ['sessionID', 'itemID'])\n",
    "\n",
    "# label these rows as purchased\n",
    "df_merge['item_purchase'] = 1\n",
    "\n",
    "# outer join them back into df_clicks\n",
    "df_clicks_aug = df_clicks.merge(right=df_merge, how='outer', left_on='idx', right_on='idx')\n",
    "\n",
    "# fill in the relevant nans in with a 0\n",
    "df_clicks_aug['item_purchase'] = df_clicks_aug['item_purchase'].fillna(0)\n",
    "df_clicks_aug['price'] = df_clicks_aug['price'].fillna(0)\n",
    "df_clicks_aug['Quantity'] = df_clicks_aug['Quantity'].fillna(0)\n",
    "\n",
    "# remove un-needed columns \n",
    "# created by the joins\n",
    "df_clicks_aug = df_clicks_aug[[\n",
    "                    'sessionID_x',\n",
    "                    'timestamp',\n",
    "                    'itemID_x',\n",
    "                    'category_x',\n",
    "                    'session_purchase_x',\n",
    "                    'price',\n",
    "                    'Quantity',\n",
    "                    'item_purchase']]\n",
    "\n",
    "# rename columns distorted by the joins\n",
    "df_clicks_aug.columns = ['sessionID',\n",
    "                         'timestamp',\n",
    "                         'itemID',\n",
    "                         'category',\n",
    "                         'session_purchase',\n",
    "                         'price',\n",
    "                         'quantity',\n",
    "                         'item_purchase']\n",
    "\n",
    "# For exploration purposes choose a\n",
    "# subset of the data to work with\n",
    "sessions = df_clicks['sessionID'].unique()\n",
    "sessions_sub = random.sample(sessions, 1000000)\n",
    "df_clicks_aug = df_clicks_aug[df_clicks_aug['sessionID'].isin(sessions_sub)]"
   ]
  },
  {
   "cell_type": "markdown",
   "metadata": {},
   "source": [
    "Now there is a dataframe with relevant info about the session and labels on if a purchase took place in the session as well as if the item was purchased."
   ]
  },
  {
   "cell_type": "code",
   "execution_count": 7,
   "metadata": {
    "collapsed": false
   },
   "outputs": [
    {
     "data": {
      "text/html": [
       "<div>\n",
       "<table border=\"1\" class=\"dataframe\">\n",
       "  <thead>\n",
       "    <tr style=\"text-align: right;\">\n",
       "      <th></th>\n",
       "      <th>sessionID</th>\n",
       "      <th>timestamp</th>\n",
       "      <th>itemID</th>\n",
       "      <th>category</th>\n",
       "      <th>session_purchase</th>\n",
       "      <th>price</th>\n",
       "      <th>quantity</th>\n",
       "      <th>item_purchase</th>\n",
       "    </tr>\n",
       "  </thead>\n",
       "  <tbody>\n",
       "    <tr>\n",
       "      <th>41</th>\n",
       "      <td>14</td>\n",
       "      <td>2014-04-01T10:09:01.362Z</td>\n",
       "      <td>214577732</td>\n",
       "      <td>0</td>\n",
       "      <td>0</td>\n",
       "      <td>0.0</td>\n",
       "      <td>0.0</td>\n",
       "      <td>0.0</td>\n",
       "    </tr>\n",
       "    <tr>\n",
       "      <th>42</th>\n",
       "      <td>14</td>\n",
       "      <td>2014-04-01T10:11:14.773Z</td>\n",
       "      <td>214587013</td>\n",
       "      <td>0</td>\n",
       "      <td>0</td>\n",
       "      <td>0.0</td>\n",
       "      <td>0.0</td>\n",
       "      <td>0.0</td>\n",
       "    </tr>\n",
       "    <tr>\n",
       "      <th>43</th>\n",
       "      <td>14</td>\n",
       "      <td>2014-04-01T10:12:36.482Z</td>\n",
       "      <td>214577732</td>\n",
       "      <td>0</td>\n",
       "      <td>0</td>\n",
       "      <td>0.0</td>\n",
       "      <td>0.0</td>\n",
       "      <td>0.0</td>\n",
       "    </tr>\n",
       "    <tr>\n",
       "      <th>46</th>\n",
       "      <td>16</td>\n",
       "      <td>2014-04-05T13:08:01.626Z</td>\n",
       "      <td>214684093</td>\n",
       "      <td>0</td>\n",
       "      <td>0</td>\n",
       "      <td>0.0</td>\n",
       "      <td>0.0</td>\n",
       "      <td>0.0</td>\n",
       "    </tr>\n",
       "    <tr>\n",
       "      <th>47</th>\n",
       "      <td>16</td>\n",
       "      <td>2014-04-05T13:08:39.897Z</td>\n",
       "      <td>214684093</td>\n",
       "      <td>0</td>\n",
       "      <td>0</td>\n",
       "      <td>0.0</td>\n",
       "      <td>0.0</td>\n",
       "      <td>0.0</td>\n",
       "    </tr>\n",
       "  </tbody>\n",
       "</table>\n",
       "</div>"
      ],
      "text/plain": [
       "    sessionID                 timestamp     itemID category  session_purchase  \\\n",
       "41         14  2014-04-01T10:09:01.362Z  214577732        0                 0   \n",
       "42         14  2014-04-01T10:11:14.773Z  214587013        0                 0   \n",
       "43         14  2014-04-01T10:12:36.482Z  214577732        0                 0   \n",
       "46         16  2014-04-05T13:08:01.626Z  214684093        0                 0   \n",
       "47         16  2014-04-05T13:08:39.897Z  214684093        0                 0   \n",
       "\n",
       "    price  quantity  item_purchase  \n",
       "41    0.0       0.0            0.0  \n",
       "42    0.0       0.0            0.0  \n",
       "43    0.0       0.0            0.0  \n",
       "46    0.0       0.0            0.0  \n",
       "47    0.0       0.0            0.0  "
      ]
     },
     "execution_count": 7,
     "metadata": {},
     "output_type": "execute_result"
    }
   ],
   "source": [
    "df_clicks_aug.head()"
   ]
  },
  {
   "cell_type": "markdown",
   "metadata": {},
   "source": [
    "We are set up to look at next question:\n",
    "> - How many categories are there? What is the distribution of purchases across category? What categories are most popular within sessions? Is category activity aligned with purchase activity? Does that matter?"
   ]
  },
  {
   "cell_type": "code",
   "execution_count": 8,
   "metadata": {
    "collapsed": false
   },
   "outputs": [
    {
     "name": "stdout",
     "output_type": "stream",
     "text": [
      "There are 250 unique categories\n"
     ]
    }
   ],
   "source": [
    "print 'There are %i unique categories' % len(df_clicks_aug['category'].unique())"
   ]
  },
  {
   "cell_type": "code",
   "execution_count": 9,
   "metadata": {
    "collapsed": false
   },
   "outputs": [
    {
     "data": {
      "text/plain": [
       "<matplotlib.text.Text at 0x12bc48a10>"
      ]
     },
     "execution_count": 9,
     "metadata": {},
     "output_type": "execute_result"
    },
    {
     "data": {
      "image/png": "[encoded data removed]",
      "text/plain": [
       "<matplotlib.figure.Figure at 0x1145b6750>"
      ]
     },
     "metadata": {},
     "output_type": "display_data"
    }
   ],
   "source": [
    "# Distribution of purchases across categories\n",
    "# All 340 will not fit nicely in a bar chart\n",
    "# so lets just bar plot the top 20\n",
    "ax = df_clicks_aug.loc[\n",
    "    df_clicks_aug['item_purchase'] == 1]['category'] \\\n",
    "    .value_counts(sort=True, normalize=True)[0:20].plot.bar(\n",
    "        title='Purchase Distribution Across Category')\n",
    "ax.set_xlabel('Category')\n",
    "ax.set_ylabel('Purchases made in Category')"
   ]
  },
  {
   "cell_type": "markdown",
   "metadata": {},
   "source": [
    "This is helpful for continuing to explore the data. One observation is there are four \"types\" of categories in the data. An integer (i.e., 0), a character (\"S\"), small integers in str format (\"1\" - \"12\") and larger integers in str format:"
   ]
  },
  {
   "cell_type": "code",
   "execution_count": 10,
   "metadata": {
    "collapsed": false
   },
   "outputs": [
    {
     "data": {
      "text/plain": [
       "array([0, 'S', '0', '1', '2', '3', '4', '5', '6', '7', '9', '11', '10',\n",
       "       '8', '12', '2089046251', '2089538467', '2089422131', '2089437536',\n",
       "       '2089074648'], dtype=object)"
      ]
     },
     "execution_count": 10,
     "metadata": {},
     "output_type": "execute_result"
    }
   ],
   "source": [
    "df_clicks_aug['category'].value_counts().index.values[0:20]"
   ]
  },
  {
   "cell_type": "markdown",
   "metadata": {},
   "source": [
    "Something to keep an eye on. "
   ]
  },
  {
   "cell_type": "code",
   "execution_count": 11,
   "metadata": {
    "collapsed": false
   },
   "outputs": [
    {
     "data": {
      "text/plain": [
       "<matplotlib.text.Text at 0x12b35bad0>"
      ]
     },
     "execution_count": 11,
     "metadata": {},
     "output_type": "execute_result"
    },
    {
     "data": {
      "image/png": "[encoded data removed]",
      "text/plain": [
       "<matplotlib.figure.Figure at 0x12bc6b290>"
      ]
     },
     "metadata": {},
     "output_type": "display_data"
    }
   ],
   "source": [
    "# bar plot\n",
    "# count unique sessionIDs by category\n",
    "# normalize to count of all sessionIDs\n",
    "ax2 = (1.0 * df_clicks_aug\n",
    "               .groupby('category')\n",
    "               .sessionID.nunique() / \n",
    "         len(df_clicks_aug['sessionID'].unique())) \\\n",
    "               .sort_values(ascending=False)[0:20] \\\n",
    "               .plot.bar(title='Popular Categories Within Sessions')\n",
    "ax2.set_xlabel('Category')\n",
    "ax2.set_ylabel('Ratio of Sessions that clicked the Category')"
   ]
  },
  {
   "cell_type": "markdown",
   "metadata": {
    "collapsed": true
   },
   "source": [
    "Thinking ahead -- at first glance it looks like the popular categories in sessions align pretty closely to the categories where purchases, i.e., this view of the data may not be all that informative for predicting purchases. \n",
    "\n",
    "I think the next question is interesting and will help us to transition to feature engineering. Lets look at category activity relative to purchase activity"
   ]
  },
  {
   "cell_type": "code",
   "execution_count": 12,
   "metadata": {
    "collapsed": false
   },
   "outputs": [
    {
     "data": {
      "text/plain": [
       "<matplotlib.legend.Legend at 0x12b2bfc50>"
      ]
     },
     "execution_count": 12,
     "metadata": {},
     "output_type": "execute_result"
    },
    {
     "data": {
      "image/png": "[encoded data removed]",
      "text/plain": [
       "<matplotlib.figure.Figure at 0x12b2d4c50>"
      ]
     },
     "metadata": {},
     "output_type": "display_data"
    }
   ],
   "source": [
    "# Compare category activity in a \n",
    "# session with a purchase \n",
    "# vs \n",
    "# session without a purchase\n",
    "df_clicks_aug \\\n",
    "    .loc[df_clicks_aug['session_purchase'] == 1] \\\n",
    "    .groupby('sessionID') \\\n",
    "    .category.nunique() \\\n",
    "    .plot.hist(alpha=0.5, bins=np.arange(1, 13), normed=True)\n",
    "ax3 = df_clicks_aug \\\n",
    "    .loc[df_clicks_aug['session_purchase'] == 0] \\\n",
    "    .groupby('sessionID') \\\n",
    "    .category.nunique() \\\n",
    "    .plot.hist(alpha=0.5, bins=np.arange(1, 13), normed=True)\n",
    "ax3.set_title('Comparing Categories visited in Purchase vs Non-Purchase Sessions')\n",
    "ax3.set_xlabel('Categories Visited')\n",
    "ax3.legend(['Session w Purchase', 'Session w No Purchase'])"
   ]
  },
  {
   "cell_type": "markdown",
   "metadata": {},
   "source": [
    "The histogram highlights that sessions with multiple categories visited are more likely to involve a purchase. Circling back to the original question -- although it's not a silver bullet it does imply category activity does seem to matter and we can use it in our classifier.\n",
    "\n",
    "We can start shift to feature design, although there is still plenty to learn about the data."
   ]
  },
  {
   "cell_type": "markdown",
   "metadata": {},
   "source": [
    "## Step 2: Design Features\n",
    "Based on the histogram above it looks like categories visited in session might be a feature. We can add that attribute to the clicks dataframe"
   ]
  },
  {
   "cell_type": "code",
   "execution_count": 13,
   "metadata": {
    "collapsed": false
   },
   "outputs": [],
   "source": [
    "# add categories visited count as a feature\n",
    "df_clicks_aug = df_clicks_aug.join(\n",
    "    other=df_clicks_aug.groupby('sessionID').category.nunique(),\n",
    "    on='sessionID',\n",
    "    how='inner',\n",
    "    lsuffix='_name',\n",
    "    rsuffix='_visitct')"
   ]
  },
  {
   "cell_type": "code",
   "execution_count": 14,
   "metadata": {
    "collapsed": false
   },
   "outputs": [
    {
     "data": {
      "text/html": [
       "<div>\n",
       "<table border=\"1\" class=\"dataframe\">\n",
       "  <thead>\n",
       "    <tr style=\"text-align: right;\">\n",
       "      <th></th>\n",
       "      <th>sessionID</th>\n",
       "      <th>timestamp</th>\n",
       "      <th>itemID</th>\n",
       "      <th>category_name</th>\n",
       "      <th>session_purchase</th>\n",
       "      <th>price</th>\n",
       "      <th>quantity</th>\n",
       "      <th>item_purchase</th>\n",
       "      <th>category_visitct</th>\n",
       "    </tr>\n",
       "  </thead>\n",
       "  <tbody>\n",
       "    <tr>\n",
       "      <th>41</th>\n",
       "      <td>14</td>\n",
       "      <td>2014-04-01T10:09:01.362Z</td>\n",
       "      <td>214577732</td>\n",
       "      <td>0</td>\n",
       "      <td>0</td>\n",
       "      <td>0.0</td>\n",
       "      <td>0.0</td>\n",
       "      <td>0.0</td>\n",
       "      <td>1</td>\n",
       "    </tr>\n",
       "    <tr>\n",
       "      <th>42</th>\n",
       "      <td>14</td>\n",
       "      <td>2014-04-01T10:11:14.773Z</td>\n",
       "      <td>214587013</td>\n",
       "      <td>0</td>\n",
       "      <td>0</td>\n",
       "      <td>0.0</td>\n",
       "      <td>0.0</td>\n",
       "      <td>0.0</td>\n",
       "      <td>1</td>\n",
       "    </tr>\n",
       "    <tr>\n",
       "      <th>43</th>\n",
       "      <td>14</td>\n",
       "      <td>2014-04-01T10:12:36.482Z</td>\n",
       "      <td>214577732</td>\n",
       "      <td>0</td>\n",
       "      <td>0</td>\n",
       "      <td>0.0</td>\n",
       "      <td>0.0</td>\n",
       "      <td>0.0</td>\n",
       "      <td>1</td>\n",
       "    </tr>\n",
       "    <tr>\n",
       "      <th>46</th>\n",
       "      <td>16</td>\n",
       "      <td>2014-04-05T13:08:01.626Z</td>\n",
       "      <td>214684093</td>\n",
       "      <td>0</td>\n",
       "      <td>0</td>\n",
       "      <td>0.0</td>\n",
       "      <td>0.0</td>\n",
       "      <td>0.0</td>\n",
       "      <td>1</td>\n",
       "    </tr>\n",
       "    <tr>\n",
       "      <th>47</th>\n",
       "      <td>16</td>\n",
       "      <td>2014-04-05T13:08:39.897Z</td>\n",
       "      <td>214684093</td>\n",
       "      <td>0</td>\n",
       "      <td>0</td>\n",
       "      <td>0.0</td>\n",
       "      <td>0.0</td>\n",
       "      <td>0.0</td>\n",
       "      <td>1</td>\n",
       "    </tr>\n",
       "  </tbody>\n",
       "</table>\n",
       "</div>"
      ],
      "text/plain": [
       "    sessionID                 timestamp     itemID category_name  \\\n",
       "41         14  2014-04-01T10:09:01.362Z  214577732             0   \n",
       "42         14  2014-04-01T10:11:14.773Z  214587013             0   \n",
       "43         14  2014-04-01T10:12:36.482Z  214577732             0   \n",
       "46         16  2014-04-05T13:08:01.626Z  214684093             0   \n",
       "47         16  2014-04-05T13:08:39.897Z  214684093             0   \n",
       "\n",
       "    session_purchase  price  quantity  item_purchase  category_visitct  \n",
       "41                 0    0.0       0.0            0.0                 1  \n",
       "42                 0    0.0       0.0            0.0                 1  \n",
       "43                 0    0.0       0.0            0.0                 1  \n",
       "46                 0    0.0       0.0            0.0                 1  \n",
       "47                 0    0.0       0.0            0.0                 1  "
      ]
     },
     "execution_count": 14,
     "metadata": {},
     "output_type": "execute_result"
    }
   ],
   "source": [
    "df_clicks_aug.head()"
   ]
  },
  {
   "cell_type": "markdown",
   "metadata": {},
   "source": [
    "Similar to categories, individual items may also be more / less likely to be purchased."
   ]
  },
  {
   "cell_type": "code",
   "execution_count": 15,
   "metadata": {
    "collapsed": false
   },
   "outputs": [
    {
     "name": "stdout",
     "output_type": "stream",
     "text": [
      "There are 35694 unique items\n"
     ]
    }
   ],
   "source": [
    "print 'There are %i unique items' % len(df_clicks_aug['itemID'].unique())"
   ]
  },
  {
   "cell_type": "code",
   "execution_count": 16,
   "metadata": {
    "collapsed": false
   },
   "outputs": [
    {
     "data": {
      "text/plain": [
       "<matplotlib.axes._subplots.AxesSubplot at 0x12aaacb10>"
      ]
     },
     "execution_count": 16,
     "metadata": {},
     "output_type": "execute_result"
    },
    {
     "data": {
      "image/png": "[encoded data removed]",
      "text/plain": [
       "<matplotlib.figure.Figure at 0x12a98a590>"
      ]
     },
     "metadata": {},
     "output_type": "display_data"
    }
   ],
   "source": [
    "# Distribution of the Top 100 items purchased\n",
    "df_clicks_aug.loc[\n",
    "    df_clicks_aug['item_purchase'] == 1]['itemID'] \\\n",
    "    .value_counts(normalize=True)[0:100].plot.bar(title='Top 100 Most Popular Purchase Items')"
   ]
  },
  {
   "cell_type": "markdown",
   "metadata": {},
   "source": [
    "The distribution appears much longer tailed than the one we drew for categories.\n",
    "\n",
    "Are some items more likely to purchases vs browses?"
   ]
  },
  {
   "cell_type": "code",
   "execution_count": 17,
   "metadata": {
    "collapsed": false
   },
   "outputs": [
    {
     "data": {
      "text/plain": [
       "itemID     item_purchase\n",
       "214507224  0.0                 1\n",
       "214507331  0.0              1512\n",
       "           1.0                37\n",
       "214507365  0.0               159\n",
       "           1.0                11\n",
       "Name: price, dtype: int64"
      ]
     },
     "execution_count": 17,
     "metadata": {},
     "output_type": "execute_result"
    }
   ],
   "source": [
    "# Aggregate over items and count by purchase\n",
    "purchase_cts = df_clicks_aug.groupby(['itemID', 'item_purchase']).agg('count')['price']\n",
    "purchase_cts.head()"
   ]
  },
  {
   "cell_type": "code",
   "execution_count": 18,
   "metadata": {
    "collapsed": false
   },
   "outputs": [],
   "source": [
    "# Calculate buy rate for each item\n",
    "# There is probably a slicker way to do\n",
    "# this but we can exert more control\n",
    "# with our own loop\n",
    "\n",
    "# loop over items\n",
    "buy_rates = []\n",
    "for idx in purchase_cts.index.get_level_values(0).unique():\n",
    "\n",
    "    # get all clicks on item\n",
    "    # segmented by purchase event\n",
    "    clicks = purchase_cts.iloc[\n",
    "                    purchase_cts\n",
    "                    .index.get_level_values('itemID') == idx].values\n",
    "\n",
    "    # only compute a buy rate\n",
    "    # if we have at least 30\n",
    "    # clicks\n",
    "    if np.sum(clicks) > 30:\n",
    "        if len(clicks) == 2:\n",
    "            # buy rate\n",
    "            buy_rate = 1.0 * clicks[1] / (clicks[0] + clicks[1])\n",
    "        else:\n",
    "            # no purchases so buy_rate is 0\n",
    "            buy_rate = 0\n",
    "    else:\n",
    "        # not enough data\n",
    "        # to make a call\n",
    "        buy_rate = np.nan\n",
    "    buy_rates.append((idx, buy_rate))"
   ]
  },
  {
   "cell_type": "code",
   "execution_count": 19,
   "metadata": {
    "collapsed": false
   },
   "outputs": [
    {
     "data": {
      "text/plain": [
       "<matplotlib.text.Text at 0x1281c8a10>"
      ]
     },
     "execution_count": 19,
     "metadata": {},
     "output_type": "execute_result"
    },
    {
     "data": {
      "image/png": "[encoded data removed]",
      "text/plain": [
       "<matplotlib.figure.Figure at 0x129719810>"
      ]
     },
     "metadata": {},
     "output_type": "display_data"
    }
   ],
   "source": [
    "# plot histogram of buy rates\n",
    "h, be = np.histogram(\n",
    "            [b[1] for b in buy_rates if not np.isnan(b[1])],\n",
    "            bins=np.arange(0,1.02, 0.02))\n",
    "plt.plot(be[:-1], 1.0 * h / np.sum(h))\n",
    "plt.xlabel('Buy Rate')\n",
    "plt.ylabel('Frequency')\n",
    "plt.title('Buy Rate Histogram Across Items')"
   ]
  },
  {
   "cell_type": "code",
   "execution_count": 20,
   "metadata": {
    "collapsed": false
   },
   "outputs": [],
   "source": [
    "# join the buy rate onto\n",
    "# our primary dataframe\n",
    "df_clicks_aug = pd.merge(\n",
    "    left=df_clicks_aug,\n",
    "    right=pd.DataFrame(data=buy_rates, columns=(('itemID', 'buy_rate'))),\n",
    "    how='left',\n",
    "    left_on='itemID',\n",
    "    right_on='itemID')"
   ]
  },
  {
   "cell_type": "code",
   "execution_count": 21,
   "metadata": {
    "collapsed": false
   },
   "outputs": [
    {
     "data": {
      "text/html": [
       "<div>\n",
       "<table border=\"1\" class=\"dataframe\">\n",
       "  <thead>\n",
       "    <tr style=\"text-align: right;\">\n",
       "      <th></th>\n",
       "      <th>sessionID</th>\n",
       "      <th>timestamp</th>\n",
       "      <th>itemID</th>\n",
       "      <th>category_name</th>\n",
       "      <th>session_purchase</th>\n",
       "      <th>price</th>\n",
       "      <th>quantity</th>\n",
       "      <th>item_purchase</th>\n",
       "      <th>category_visitct</th>\n",
       "      <th>buy_rate</th>\n",
       "    </tr>\n",
       "  </thead>\n",
       "  <tbody>\n",
       "    <tr>\n",
       "      <th>0</th>\n",
       "      <td>14</td>\n",
       "      <td>2014-04-01T10:09:01.362Z</td>\n",
       "      <td>214577732</td>\n",
       "      <td>0</td>\n",
       "      <td>0</td>\n",
       "      <td>0.0</td>\n",
       "      <td>0.0</td>\n",
       "      <td>0.0</td>\n",
       "      <td>1</td>\n",
       "      <td>0.024876</td>\n",
       "    </tr>\n",
       "    <tr>\n",
       "      <th>1</th>\n",
       "      <td>14</td>\n",
       "      <td>2014-04-01T10:11:14.773Z</td>\n",
       "      <td>214587013</td>\n",
       "      <td>0</td>\n",
       "      <td>0</td>\n",
       "      <td>0.0</td>\n",
       "      <td>0.0</td>\n",
       "      <td>0.0</td>\n",
       "      <td>1</td>\n",
       "      <td>0.000000</td>\n",
       "    </tr>\n",
       "    <tr>\n",
       "      <th>2</th>\n",
       "      <td>14</td>\n",
       "      <td>2014-04-01T10:12:36.482Z</td>\n",
       "      <td>214577732</td>\n",
       "      <td>0</td>\n",
       "      <td>0</td>\n",
       "      <td>0.0</td>\n",
       "      <td>0.0</td>\n",
       "      <td>0.0</td>\n",
       "      <td>1</td>\n",
       "      <td>0.024876</td>\n",
       "    </tr>\n",
       "    <tr>\n",
       "      <th>3</th>\n",
       "      <td>16</td>\n",
       "      <td>2014-04-05T13:08:01.626Z</td>\n",
       "      <td>214684093</td>\n",
       "      <td>0</td>\n",
       "      <td>0</td>\n",
       "      <td>0.0</td>\n",
       "      <td>0.0</td>\n",
       "      <td>0.0</td>\n",
       "      <td>1</td>\n",
       "      <td>0.079549</td>\n",
       "    </tr>\n",
       "    <tr>\n",
       "      <th>4</th>\n",
       "      <td>16</td>\n",
       "      <td>2014-04-05T13:08:39.897Z</td>\n",
       "      <td>214684093</td>\n",
       "      <td>0</td>\n",
       "      <td>0</td>\n",
       "      <td>0.0</td>\n",
       "      <td>0.0</td>\n",
       "      <td>0.0</td>\n",
       "      <td>1</td>\n",
       "      <td>0.079549</td>\n",
       "    </tr>\n",
       "  </tbody>\n",
       "</table>\n",
       "</div>"
      ],
      "text/plain": [
       "   sessionID                 timestamp     itemID category_name  \\\n",
       "0         14  2014-04-01T10:09:01.362Z  214577732             0   \n",
       "1         14  2014-04-01T10:11:14.773Z  214587013             0   \n",
       "2         14  2014-04-01T10:12:36.482Z  214577732             0   \n",
       "3         16  2014-04-05T13:08:01.626Z  214684093             0   \n",
       "4         16  2014-04-05T13:08:39.897Z  214684093             0   \n",
       "\n",
       "   session_purchase  price  quantity  item_purchase  category_visitct  \\\n",
       "0                 0    0.0       0.0            0.0                 1   \n",
       "1                 0    0.0       0.0            0.0                 1   \n",
       "2                 0    0.0       0.0            0.0                 1   \n",
       "3                 0    0.0       0.0            0.0                 1   \n",
       "4                 0    0.0       0.0            0.0                 1   \n",
       "\n",
       "   buy_rate  \n",
       "0  0.024876  \n",
       "1  0.000000  \n",
       "2  0.024876  \n",
       "3  0.079549  \n",
       "4  0.079549  "
      ]
     },
     "execution_count": 21,
     "metadata": {},
     "output_type": "execute_result"
    }
   ],
   "source": [
    "df_clicks_aug.head()"
   ]
  },
  {
   "cell_type": "markdown",
   "metadata": {},
   "source": [
    "Another potential feature could be one purchase leading to another in a session, that is $$P(B[x_i] \\mid B[x_k]) $$\n",
    "where $B[x]$ is a purchase of item $x$. One example of this could buying batteries in the same session as an electronic toy. We can visualize the data by creating an $n \\times n$ array of the conditional purchases"
   ]
  },
  {
   "cell_type": "markdown",
   "metadata": {},
   "source": [
    "This is going to be a beast of a calculation on items, so start on categories"
   ]
  },
  {
   "cell_type": "code",
   "execution_count": 22,
   "metadata": {
    "collapsed": false
   },
   "outputs": [
    {
     "name": "stdout",
     "output_type": "stream",
     "text": [
      "Through 0\n"
     ]
    }
   ],
   "source": [
    "# categories that were purchased\n",
    "cat_purchases = df_clicks_aug.loc[\n",
    "                    df_clicks_aug['item_purchase'] == 1] \\\n",
    "                 ['category_name'].unique()\n",
    "\n",
    "# loop over categories\n",
    "# store sessionID if\n",
    "#   a. item was purchased\n",
    "#   b. category match\n",
    "# Compare with all sessions\n",
    "# that saw a click with that category\n",
    "cat_sessions_dict = {}\n",
    "cat_all_sessions_dict = {}\n",
    "for ii, cat in enumerate(cat_purchases):\n",
    "\n",
    "    # sessions with a purchase of this category\n",
    "    cat_sessions_dict[cat] = df_clicks_aug.loc[\n",
    "                            df_clicks_aug['item_purchase'] == 1].loc[\n",
    "                            df_clicks_aug['category_name'] == cat]['sessionID'].unique()\n",
    "\n",
    "    # all sessions with this category\n",
    "    cat_all_sessions_dict[cat] = df_clicks_aug.loc[\n",
    "                            df_clicks_aug['category_name'] == cat]['sessionID'].unique()\n",
    "    if ii % 100 == 0:\n",
    "        print 'Through %i' % ii"
   ]
  },
  {
   "cell_type": "code",
   "execution_count": 23,
   "metadata": {
    "collapsed": false
   },
   "outputs": [],
   "source": [
    "# Move data into 2D array\n",
    "# First map category label\n",
    "# to array index\n",
    "cat_idx_lookup = {}\n",
    "unique_cats = df_clicks_aug['category_name'].unique()\n",
    "\n",
    "for ii, k in enumerate(unique_cats):\n",
    "    cat_idx_lookup[k] = ii\n",
    "\n",
    "# initialize 2D array\n",
    "coloc_cat = np.zeros([len(unique_cats), len(unique_cats)])\n",
    "\n",
    "# Double loop :(\n",
    "# TODO - Improve performance\n",
    "for k1 in cat_purchases:\n",
    "    for k2 in cat_purchases:\n",
    "\n",
    "        # Dont store diagonal\n",
    "        if k1 != k2:\n",
    "            # array[i, j] = # sessions where cat i purchased /\n",
    "            # sessions colocated between i and j in the same session\n",
    "            numer = len(set(cat_sessions_dict[k1]).intersection(\n",
    "                    set(cat_sessions_dict[k2])))\n",
    "            denom = len(set(cat_all_sessions_dict[k1]).intersection(\n",
    "                    set(cat_all_sessions_dict[k2])))\n",
    "            if denom > 0:\n",
    "                coloc_cat[cat_idx_lookup[k1], cat_idx_lookup[k2]] = 1.0 * numer / denom\n",
    "            else:\n",
    "                coloc_cat[cat_idx_lookup[k1], cat_idx_lookup[k2]] = 0.0"
   ]
  },
  {
   "cell_type": "code",
   "execution_count": 24,
   "metadata": {
    "collapsed": false
   },
   "outputs": [
    {
     "data": {
      "text/plain": [
       "<matplotlib.text.Text at 0x127f10750>"
      ]
     },
     "execution_count": 24,
     "metadata": {},
     "output_type": "execute_result"
    },
    {
     "data": {
      "image/png": "[encoded data removed]",
      "text/plain": [
       "<matplotlib.figure.Figure at 0x12972a310>"
      ]
     },
     "metadata": {},
     "output_type": "display_data"
    }
   ],
   "source": [
    "# plot the colocation matrix\n",
    "fig = plt.figure()\n",
    "plt.clf()\n",
    "ax = fig.add_subplot(111)\n",
    "ax.set_aspect(1)\n",
    "res = ax.imshow(np.array(coloc_cat), cmap=plt.cm.jet, \n",
    "                interpolation='nearest', origin='lower')\n",
    "cb = fig.colorbar(res)\n",
    "ax.set_title('Category Colocation')\n",
    "ax.set_xlabel('Category')\n",
    "ax.set_ylabel('Category')"
   ]
  },
  {
   "cell_type": "code",
   "execution_count": 25,
   "metadata": {
    "collapsed": false
   },
   "outputs": [
    {
     "data": {
      "text/plain": [
       "<matplotlib.text.Text at 0x127380150>"
      ]
     },
     "execution_count": 25,
     "metadata": {},
     "output_type": "execute_result"
    },
    {
     "data": {
      "image/png": "[encoded data removed]",
      "text/plain": [
       "<matplotlib.figure.Figure at 0x12a961f90>"
      ]
     },
     "metadata": {},
     "output_type": "display_data"
    }
   ],
   "source": [
    "# plot the colocation matrix\n",
    "fig = plt.figure()\n",
    "plt.clf()\n",
    "ax = fig.add_subplot(111)\n",
    "ax.set_aspect(1)\n",
    "res = ax.imshow(np.array(coloc_cat[:, 0:20]), cmap=plt.cm.jet, \n",
    "                interpolation='nearest', origin='lower', aspect='auto')\n",
    "cb = fig.colorbar(res)\n",
    "ax.set_title('Category Colocation -- Zoomed to first 20 categories')\n",
    "ax.set_xlabel('Category')\n",
    "ax.set_ylabel('Category')"
   ]
  },
  {
   "cell_type": "markdown",
   "metadata": {},
   "source": [
    "So it is sparse but there is categories that colocate in sales. We can add this feature to our data. The value calculated above will not be helpful for our eventual classifier as it only demonstrates that some correlation does exist between categories within sales sessions. \n",
    "\n",
    "Instead we'll need an indicator variable -- that is, for the category in each row we'll have an indicator that flags if that category is also in the session. The classifier should then find the correlations, i.e., if a item in category $x$ is under evaluation then we will give it the feature that category $y$ was also in the session"
   ]
  },
  {
   "cell_type": "code",
   "execution_count": 26,
   "metadata": {
    "collapsed": false
   },
   "outputs": [
    {
     "data": {
      "text/html": [
       "<div>\n",
       "<table border=\"1\" class=\"dataframe\">\n",
       "  <thead>\n",
       "    <tr style=\"text-align: right;\">\n",
       "      <th></th>\n",
       "      <th>0s_coloc</th>\n",
       "      <th>0_coloc</th>\n",
       "      <th>S_coloc</th>\n",
       "      <th>2_coloc</th>\n",
       "      <th>1_coloc</th>\n",
       "      <th>3_coloc</th>\n",
       "      <th>2089286907_coloc</th>\n",
       "      <th>9_coloc</th>\n",
       "      <th>6_coloc</th>\n",
       "      <th>10_coloc</th>\n",
       "      <th>...</th>\n",
       "      <th>2088893676_coloc</th>\n",
       "      <th>2089436882_coloc</th>\n",
       "      <th>193468660_coloc</th>\n",
       "      <th>2088954948_coloc</th>\n",
       "      <th>2089421636_coloc</th>\n",
       "      <th>2089314197_coloc</th>\n",
       "      <th>2089425918_coloc</th>\n",
       "      <th>8_coloc</th>\n",
       "      <th>2089039830_coloc</th>\n",
       "      <th>2089573539_coloc</th>\n",
       "    </tr>\n",
       "  </thead>\n",
       "  <tbody>\n",
       "    <tr>\n",
       "      <th>1</th>\n",
       "      <td>0.0</td>\n",
       "      <td>0.0</td>\n",
       "      <td>0.0</td>\n",
       "      <td>0.0</td>\n",
       "      <td>0.0</td>\n",
       "      <td>0.0</td>\n",
       "      <td>0.0</td>\n",
       "      <td>0.0</td>\n",
       "      <td>0.0</td>\n",
       "      <td>0.0</td>\n",
       "      <td>...</td>\n",
       "      <td>0.0</td>\n",
       "      <td>0.0</td>\n",
       "      <td>0.0</td>\n",
       "      <td>0.0</td>\n",
       "      <td>0.0</td>\n",
       "      <td>0.0</td>\n",
       "      <td>0.0</td>\n",
       "      <td>0.0</td>\n",
       "      <td>0.0</td>\n",
       "      <td>0.0</td>\n",
       "    </tr>\n",
       "    <tr>\n",
       "      <th>2</th>\n",
       "      <td>0.0</td>\n",
       "      <td>0.0</td>\n",
       "      <td>0.0</td>\n",
       "      <td>0.0</td>\n",
       "      <td>0.0</td>\n",
       "      <td>0.0</td>\n",
       "      <td>0.0</td>\n",
       "      <td>0.0</td>\n",
       "      <td>0.0</td>\n",
       "      <td>0.0</td>\n",
       "      <td>...</td>\n",
       "      <td>0.0</td>\n",
       "      <td>0.0</td>\n",
       "      <td>0.0</td>\n",
       "      <td>0.0</td>\n",
       "      <td>0.0</td>\n",
       "      <td>0.0</td>\n",
       "      <td>0.0</td>\n",
       "      <td>0.0</td>\n",
       "      <td>0.0</td>\n",
       "      <td>0.0</td>\n",
       "    </tr>\n",
       "    <tr>\n",
       "      <th>3</th>\n",
       "      <td>0.0</td>\n",
       "      <td>0.0</td>\n",
       "      <td>0.0</td>\n",
       "      <td>0.0</td>\n",
       "      <td>0.0</td>\n",
       "      <td>0.0</td>\n",
       "      <td>0.0</td>\n",
       "      <td>0.0</td>\n",
       "      <td>0.0</td>\n",
       "      <td>0.0</td>\n",
       "      <td>...</td>\n",
       "      <td>0.0</td>\n",
       "      <td>0.0</td>\n",
       "      <td>0.0</td>\n",
       "      <td>0.0</td>\n",
       "      <td>0.0</td>\n",
       "      <td>0.0</td>\n",
       "      <td>0.0</td>\n",
       "      <td>0.0</td>\n",
       "      <td>0.0</td>\n",
       "      <td>0.0</td>\n",
       "    </tr>\n",
       "    <tr>\n",
       "      <th>4</th>\n",
       "      <td>0.0</td>\n",
       "      <td>0.0</td>\n",
       "      <td>0.0</td>\n",
       "      <td>0.0</td>\n",
       "      <td>0.0</td>\n",
       "      <td>0.0</td>\n",
       "      <td>0.0</td>\n",
       "      <td>0.0</td>\n",
       "      <td>0.0</td>\n",
       "      <td>0.0</td>\n",
       "      <td>...</td>\n",
       "      <td>0.0</td>\n",
       "      <td>0.0</td>\n",
       "      <td>0.0</td>\n",
       "      <td>0.0</td>\n",
       "      <td>0.0</td>\n",
       "      <td>0.0</td>\n",
       "      <td>0.0</td>\n",
       "      <td>0.0</td>\n",
       "      <td>0.0</td>\n",
       "      <td>0.0</td>\n",
       "    </tr>\n",
       "    <tr>\n",
       "      <th>6</th>\n",
       "      <td>0.0</td>\n",
       "      <td>0.0</td>\n",
       "      <td>0.0</td>\n",
       "      <td>0.0</td>\n",
       "      <td>0.0</td>\n",
       "      <td>0.0</td>\n",
       "      <td>0.0</td>\n",
       "      <td>0.0</td>\n",
       "      <td>0.0</td>\n",
       "      <td>0.0</td>\n",
       "      <td>...</td>\n",
       "      <td>0.0</td>\n",
       "      <td>0.0</td>\n",
       "      <td>0.0</td>\n",
       "      <td>0.0</td>\n",
       "      <td>0.0</td>\n",
       "      <td>0.0</td>\n",
       "      <td>0.0</td>\n",
       "      <td>0.0</td>\n",
       "      <td>0.0</td>\n",
       "      <td>0.0</td>\n",
       "    </tr>\n",
       "  </tbody>\n",
       "</table>\n",
       "<p>5 rows × 250 columns</p>\n",
       "</div>"
      ],
      "text/plain": [
       "   0s_coloc  0_coloc  S_coloc  2_coloc  1_coloc  3_coloc  2089286907_coloc  \\\n",
       "1       0.0      0.0      0.0      0.0      0.0      0.0               0.0   \n",
       "2       0.0      0.0      0.0      0.0      0.0      0.0               0.0   \n",
       "3       0.0      0.0      0.0      0.0      0.0      0.0               0.0   \n",
       "4       0.0      0.0      0.0      0.0      0.0      0.0               0.0   \n",
       "6       0.0      0.0      0.0      0.0      0.0      0.0               0.0   \n",
       "\n",
       "   9_coloc  6_coloc  10_coloc        ...         2088893676_coloc  \\\n",
       "1      0.0      0.0       0.0        ...                      0.0   \n",
       "2      0.0      0.0       0.0        ...                      0.0   \n",
       "3      0.0      0.0       0.0        ...                      0.0   \n",
       "4      0.0      0.0       0.0        ...                      0.0   \n",
       "6      0.0      0.0       0.0        ...                      0.0   \n",
       "\n",
       "   2089436882_coloc  193468660_coloc  2088954948_coloc  2089421636_coloc  \\\n",
       "1               0.0              0.0               0.0               0.0   \n",
       "2               0.0              0.0               0.0               0.0   \n",
       "3               0.0              0.0               0.0               0.0   \n",
       "4               0.0              0.0               0.0               0.0   \n",
       "6               0.0              0.0               0.0               0.0   \n",
       "\n",
       "   2089314197_coloc  2089425918_coloc  8_coloc  2089039830_coloc  \\\n",
       "1               0.0               0.0      0.0               0.0   \n",
       "2               0.0               0.0      0.0               0.0   \n",
       "3               0.0               0.0      0.0               0.0   \n",
       "4               0.0               0.0      0.0               0.0   \n",
       "6               0.0               0.0      0.0               0.0   \n",
       "\n",
       "   2089573539_coloc  \n",
       "1               0.0  \n",
       "2               0.0  \n",
       "3               0.0  \n",
       "4               0.0  \n",
       "6               0.0  \n",
       "\n",
       "[5 rows x 250 columns]"
      ]
     },
     "execution_count": 26,
     "metadata": {},
     "output_type": "execute_result"
    }
   ],
   "source": [
    "sessions = df_clicks.sessionID.unique()\n",
    "session_ct = len(sessions)\n",
    "session_idx_lookup = pd.Series(data=sessions, index=np.arange(session_ct))\n",
    "\n",
    "category_indicators = np.zeros([session_ct, len(unique_cats)])\n",
    "new_col_names = []\n",
    "for ii, cat in enumerate(unique_cats):\n",
    "    cat_sessions = df_clicks_aug.loc[df_clicks_aug['category_name'] == cat]['sessionID'].unique()\n",
    "    idxs = session_idx_lookup[session_idx_lookup.isin(cat_sessions)].index.values\n",
    "    category_indicators[idxs, ii] = 1\n",
    "\n",
    "    try:\n",
    "        col_name = cat + '_coloc'\n",
    "        new_col_names.append(col_name)\n",
    "    except TypeError:\n",
    "        col_name = str(cat) + 's_coloc'\n",
    "        new_col_names.append(col_name)\n",
    "\n",
    "df_colocs = pd.DataFrame(data=category_indicators, index=sessions, columns = [new_col_names])\n",
    "df_colocs.head()"
   ]
  },
  {
   "cell_type": "code",
   "execution_count": 27,
   "metadata": {
    "collapsed": false
   },
   "outputs": [],
   "source": [
    "# join on the co-basket features\n",
    "df_clicks_aug = df_clicks_aug.join(\n",
    "                df_colocs,\n",
    "                on='category_name',\n",
    "                how='left')"
   ]
  },
  {
   "cell_type": "markdown",
   "metadata": {},
   "source": [
    "It would be great to do this for items too, but my laptop doesn't seem up to the challenge (TODO look at colocations of items). \n",
    "\n",
    "Moving on, there's another question that we'll use to create another feature:\n",
    "> Is the timestamp important? If so, how?\n",
    "\n",
    "Let's create two features from timestamp. The first will be session duration and the second will flag sessions that took place on the weekend.\n",
    "\n",
    "It would be great to create a flag to determine if the session took place during work hours, evening or late night -- however since timestamp is Zulu time that local information is not present."
   ]
  },
  {
   "cell_type": "code",
   "execution_count": 28,
   "metadata": {
    "collapsed": false
   },
   "outputs": [],
   "source": [
    "# convert timestamp to datetime\n",
    "# to enable feature generation\n",
    "def convert_to_datetime(dt):\n",
    "    return datetime.strptime(dt, '%Y-%m-%dT%H:%M:%S.%fZ')\n",
    "\n",
    "df_clicks_aug['timestamp_datetime'] = df_clicks_aug['timestamp'].apply(convert_to_datetime)"
   ]
  },
  {
   "cell_type": "code",
   "execution_count": 29,
   "metadata": {
    "collapsed": true
   },
   "outputs": [],
   "source": [
    "# use newly created datetime field to measure session length\n",
    "unique_sessions = df_clicks_aug['sessionID'].unique()\n",
    "session_durs = []\n",
    "for sessionID in unique_sessions:\n",
    "    clicks = df_clicks_aug.loc[df_clicks_aug['sessionID'] == sessionID]\n",
    "    duration = (clicks['timestamp_datetime'].max() - \n",
    "                clicks['timestamp_datetime'].min()).seconds\n",
    "    session_durs.append((sessionID, duration))"
   ]
  },
  {
   "cell_type": "code",
   "execution_count": 30,
   "metadata": {
    "collapsed": true
   },
   "outputs": [],
   "source": [
    "# That was a long calculation\n",
    "# so lets save off the data in case we need it\n",
    "df_session_durs = pd.DataFrame(data=session_durs, columns=(('sessionID', 'duration_secs')))\n",
    "df_session_durs.to_csv('df_session_durs.csv')"
   ]
  },
  {
   "cell_type": "code",
   "execution_count": 31,
   "metadata": {
    "collapsed": false
   },
   "outputs": [],
   "source": [
    "# merge session durations onto our dataset\n",
    "df_clicks_aug = pd.merge(left=df_clicks_aug,\n",
    "                right=df_session_durs,\n",
    "                left_on = 'sessionID',\n",
    "                right_on = 'sessionID',\n",
    "                how = 'left')"
   ]
  },
  {
   "cell_type": "code",
   "execution_count": 32,
   "metadata": {
    "collapsed": false
   },
   "outputs": [],
   "source": [
    "# create indicator if its a weekend session\n",
    "def is_it_weekend(timestamp_datetime):\n",
    "    \"\"\"\n",
    "    flag timestamp if it's \n",
    "    weekend --> 1\n",
    "    or \n",
    "    weekeday --> 0\n",
    "    \"\"\"\n",
    "    if timestamp_datetime.weekday() >= 5:\n",
    "        return 1\n",
    "    else:\n",
    "        return 0\n",
    "\n",
    "df_clicks_aug['weekend_flag'] = df_clicks_aug['timestamp_datetime'].apply(is_it_weekend)"
   ]
  },
  {
   "cell_type": "markdown",
   "metadata": {},
   "source": [
    "To recap, we have created / identified the following features:\n",
    "- how many categories were visited in the session\n",
    "- buy rate for the item under click\n",
    "- buy rate co-location \n",
    "- session duration (seconds)\n",
    "- did click take place on weekday/weekend\n",
    "\n",
    "Let's add the buy rate for the category and then move on to the prediction model"
   ]
  },
  {
   "cell_type": "code",
   "execution_count": 33,
   "metadata": {
    "collapsed": false
   },
   "outputs": [],
   "source": [
    "# Aggregate over items and count by purchase\n",
    "cat_purchase_cts = df_clicks_aug.groupby(['category_name', 'item_purchase']).agg('count')['price']\n",
    "\n",
    "# Calculate buy rate for each category\n",
    "# There is probably a slicker way to do\n",
    "# this but we can exert more control\n",
    "# with our own loop\n",
    "\n",
    "# loop over items\n",
    "cat_buy_rates = []\n",
    "for idx in cat_purchase_cts.index.get_level_values(0).unique():\n",
    "\n",
    "    # get all clicks on item\n",
    "    # segmented by purchase event\n",
    "    clicks = cat_purchase_cts.iloc[\n",
    "                    cat_purchase_cts\n",
    "                    .index.get_level_values('category_name') == idx].values\n",
    "\n",
    "    # only compute a buy rate\n",
    "    # if we have at least 30\n",
    "    # clicks\n",
    "    if np.sum(clicks) > 30:\n",
    "        if len(clicks) == 2:\n",
    "            # buy rate\n",
    "            cat_buy_rate = 1.0 * clicks[1] / (clicks[0] + clicks[1])\n",
    "        else:\n",
    "            # no purchases so buy_rate is 0\n",
    "            cat_buy_rate = 0\n",
    "    else:\n",
    "        # not enough data\n",
    "        # to make a call\n",
    "        cat_buy_rate = np.nan\n",
    "    cat_buy_rates.append((idx, cat_buy_rate))\n",
    "\n",
    "# join the cat_buy rate onto\n",
    "# our primary dataframe\n",
    "df_clicks_aug = pd.merge(\n",
    "    left=df_clicks_aug,\n",
    "    right=pd.DataFrame(data=cat_buy_rates, columns=(('category_name', 'cat_buy_rate'))),\n",
    "    how='left',\n",
    "    left_on='category_name',\n",
    "    right_on='category_name')"
   ]
  },
  {
   "cell_type": "code",
   "execution_count": 34,
   "metadata": {
    "collapsed": false
   },
   "outputs": [],
   "source": [
    "# Save data\n",
    "df_clicks_aug.to_csv('df_clicks_aug.csv')"
   ]
  },
  {
   "cell_type": "markdown",
   "metadata": {},
   "source": [
    "### 3. Prediction\n",
    "\n",
    "Per our instructions:\n",
    "> Using any approach you like, and any library you like, build a model to predict whether a user will buy a product based on session activity. Don’t worry too much about accuracy or performance; imagine we want to build a baseline that we can improve upon over time.\n",
    "\n",
    "I'm going to build a classifier using sklearn technology. Specifically, we'll\n",
    "- set up a KFold cross validator with the sklearn KFold module\n",
    "- create a classification pipeline with sklearn Pipeline\n",
    "     - Pipeline allows us to build classifier object with pre-processsing steps as well as classification algorithm\n",
    "     - If needed we can expand to additional features\n",
    "\n",
    "\n",
    "\n",
    "To start, we'll use a logistic regression classifier. I chose this engine for several reasons:\n",
    "1. Our labels are binary (i.e., purchase or not purchase)\n",
    "2. We have binary, discrete and continuous variables\n",
    "3. I have been using this algorithm lately and have some comfort with it.\n",
    "\n",
    "That said, a big TODO would be to try some of the other approaches (random forest in particular seems like it could work well in this space)"
   ]
  },
  {
   "cell_type": "code",
   "execution_count": 35,
   "metadata": {
    "collapsed": false
   },
   "outputs": [
    {
     "data": {
      "text/html": [
       "<div>\n",
       "<table border=\"1\" class=\"dataframe\">\n",
       "  <thead>\n",
       "    <tr style=\"text-align: right;\">\n",
       "      <th></th>\n",
       "      <th>sessionID</th>\n",
       "      <th>timestamp</th>\n",
       "      <th>itemID</th>\n",
       "      <th>category_name</th>\n",
       "      <th>session_purchase</th>\n",
       "      <th>price</th>\n",
       "      <th>quantity</th>\n",
       "      <th>item_purchase</th>\n",
       "      <th>category_visitct</th>\n",
       "      <th>buy_rate</th>\n",
       "      <th>...</th>\n",
       "      <th>2089421636_coloc</th>\n",
       "      <th>2089314197_coloc</th>\n",
       "      <th>2089425918_coloc</th>\n",
       "      <th>8_coloc</th>\n",
       "      <th>2089039830_coloc</th>\n",
       "      <th>2089573539_coloc</th>\n",
       "      <th>timestamp_datetime</th>\n",
       "      <th>duration_secs</th>\n",
       "      <th>weekend_flag</th>\n",
       "      <th>cat_buy_rate</th>\n",
       "    </tr>\n",
       "  </thead>\n",
       "  <tbody>\n",
       "    <tr>\n",
       "      <th>0</th>\n",
       "      <td>14</td>\n",
       "      <td>2014-04-01T10:09:01.362Z</td>\n",
       "      <td>214577732</td>\n",
       "      <td>0</td>\n",
       "      <td>0</td>\n",
       "      <td>0.0</td>\n",
       "      <td>0.0</td>\n",
       "      <td>0.0</td>\n",
       "      <td>1</td>\n",
       "      <td>0.024876</td>\n",
       "      <td>...</td>\n",
       "      <td>NaN</td>\n",
       "      <td>NaN</td>\n",
       "      <td>NaN</td>\n",
       "      <td>NaN</td>\n",
       "      <td>NaN</td>\n",
       "      <td>NaN</td>\n",
       "      <td>2014-04-01 10:09:01.362</td>\n",
       "      <td>215</td>\n",
       "      <td>0</td>\n",
       "      <td>0.057289</td>\n",
       "    </tr>\n",
       "    <tr>\n",
       "      <th>1</th>\n",
       "      <td>14</td>\n",
       "      <td>2014-04-01T10:11:14.773Z</td>\n",
       "      <td>214587013</td>\n",
       "      <td>0</td>\n",
       "      <td>0</td>\n",
       "      <td>0.0</td>\n",
       "      <td>0.0</td>\n",
       "      <td>0.0</td>\n",
       "      <td>1</td>\n",
       "      <td>0.000000</td>\n",
       "      <td>...</td>\n",
       "      <td>NaN</td>\n",
       "      <td>NaN</td>\n",
       "      <td>NaN</td>\n",
       "      <td>NaN</td>\n",
       "      <td>NaN</td>\n",
       "      <td>NaN</td>\n",
       "      <td>2014-04-01 10:11:14.773</td>\n",
       "      <td>215</td>\n",
       "      <td>0</td>\n",
       "      <td>0.057289</td>\n",
       "    </tr>\n",
       "    <tr>\n",
       "      <th>2</th>\n",
       "      <td>14</td>\n",
       "      <td>2014-04-01T10:12:36.482Z</td>\n",
       "      <td>214577732</td>\n",
       "      <td>0</td>\n",
       "      <td>0</td>\n",
       "      <td>0.0</td>\n",
       "      <td>0.0</td>\n",
       "      <td>0.0</td>\n",
       "      <td>1</td>\n",
       "      <td>0.024876</td>\n",
       "      <td>...</td>\n",
       "      <td>NaN</td>\n",
       "      <td>NaN</td>\n",
       "      <td>NaN</td>\n",
       "      <td>NaN</td>\n",
       "      <td>NaN</td>\n",
       "      <td>NaN</td>\n",
       "      <td>2014-04-01 10:12:36.482</td>\n",
       "      <td>215</td>\n",
       "      <td>0</td>\n",
       "      <td>0.057289</td>\n",
       "    </tr>\n",
       "    <tr>\n",
       "      <th>3</th>\n",
       "      <td>16</td>\n",
       "      <td>2014-04-05T13:08:01.626Z</td>\n",
       "      <td>214684093</td>\n",
       "      <td>0</td>\n",
       "      <td>0</td>\n",
       "      <td>0.0</td>\n",
       "      <td>0.0</td>\n",
       "      <td>0.0</td>\n",
       "      <td>1</td>\n",
       "      <td>0.079549</td>\n",
       "      <td>...</td>\n",
       "      <td>NaN</td>\n",
       "      <td>NaN</td>\n",
       "      <td>NaN</td>\n",
       "      <td>NaN</td>\n",
       "      <td>NaN</td>\n",
       "      <td>NaN</td>\n",
       "      <td>2014-04-05 13:08:01.626</td>\n",
       "      <td>771</td>\n",
       "      <td>1</td>\n",
       "      <td>0.057289</td>\n",
       "    </tr>\n",
       "    <tr>\n",
       "      <th>4</th>\n",
       "      <td>16</td>\n",
       "      <td>2014-04-05T13:08:39.897Z</td>\n",
       "      <td>214684093</td>\n",
       "      <td>0</td>\n",
       "      <td>0</td>\n",
       "      <td>0.0</td>\n",
       "      <td>0.0</td>\n",
       "      <td>0.0</td>\n",
       "      <td>1</td>\n",
       "      <td>0.079549</td>\n",
       "      <td>...</td>\n",
       "      <td>NaN</td>\n",
       "      <td>NaN</td>\n",
       "      <td>NaN</td>\n",
       "      <td>NaN</td>\n",
       "      <td>NaN</td>\n",
       "      <td>NaN</td>\n",
       "      <td>2014-04-05 13:08:39.897</td>\n",
       "      <td>771</td>\n",
       "      <td>1</td>\n",
       "      <td>0.057289</td>\n",
       "    </tr>\n",
       "  </tbody>\n",
       "</table>\n",
       "<p>5 rows × 264 columns</p>\n",
       "</div>"
      ],
      "text/plain": [
       "   sessionID                 timestamp     itemID category_name  \\\n",
       "0         14  2014-04-01T10:09:01.362Z  214577732             0   \n",
       "1         14  2014-04-01T10:11:14.773Z  214587013             0   \n",
       "2         14  2014-04-01T10:12:36.482Z  214577732             0   \n",
       "3         16  2014-04-05T13:08:01.626Z  214684093             0   \n",
       "4         16  2014-04-05T13:08:39.897Z  214684093             0   \n",
       "\n",
       "   session_purchase  price  quantity  item_purchase  category_visitct  \\\n",
       "0                 0    0.0       0.0            0.0                 1   \n",
       "1                 0    0.0       0.0            0.0                 1   \n",
       "2                 0    0.0       0.0            0.0                 1   \n",
       "3                 0    0.0       0.0            0.0                 1   \n",
       "4                 0    0.0       0.0            0.0                 1   \n",
       "\n",
       "   buy_rate      ...       2089421636_coloc  2089314197_coloc  \\\n",
       "0  0.024876      ...                    NaN               NaN   \n",
       "1  0.000000      ...                    NaN               NaN   \n",
       "2  0.024876      ...                    NaN               NaN   \n",
       "3  0.079549      ...                    NaN               NaN   \n",
       "4  0.079549      ...                    NaN               NaN   \n",
       "\n",
       "   2089425918_coloc  8_coloc  2089039830_coloc  2089573539_coloc  \\\n",
       "0               NaN      NaN               NaN               NaN   \n",
       "1               NaN      NaN               NaN               NaN   \n",
       "2               NaN      NaN               NaN               NaN   \n",
       "3               NaN      NaN               NaN               NaN   \n",
       "4               NaN      NaN               NaN               NaN   \n",
       "\n",
       "       timestamp_datetime  duration_secs  weekend_flag  cat_buy_rate  \n",
       "0 2014-04-01 10:09:01.362            215             0      0.057289  \n",
       "1 2014-04-01 10:11:14.773            215             0      0.057289  \n",
       "2 2014-04-01 10:12:36.482            215             0      0.057289  \n",
       "3 2014-04-05 13:08:01.626            771             1      0.057289  \n",
       "4 2014-04-05 13:08:39.897            771             1      0.057289  \n",
       "\n",
       "[5 rows x 264 columns]"
      ]
     },
     "execution_count": 35,
     "metadata": {},
     "output_type": "execute_result"
    }
   ],
   "source": [
    "df_clicks_aug.head()"
   ]
  },
  {
   "cell_type": "code",
   "execution_count": 36,
   "metadata": {
    "collapsed": true
   },
   "outputs": [],
   "source": [
    "# Create feature and label arrays\n",
    "not_features = ['sessionID', 'timestamp', \n",
    "                'itemID', 'category_name',\n",
    "                'session_purchase', 'price',\n",
    "                'quantity', 'item_purchase', 'timestamp_datetime']\n",
    "feature_columns = [c for c in df_clicks_aug.columns if c not in not_features]\n",
    "X_ = df_clicks_aug[feature_columns]\n",
    "Y_ = df_clicks_aug['item_purchase']"
   ]
  },
  {
   "cell_type": "code",
   "execution_count": 37,
   "metadata": {
    "collapsed": false
   },
   "outputs": [
    {
     "name": "stderr",
     "output_type": "stream",
     "text": [
      "/Users/dfinkel/siphonenv/lib/python2.7/site-packages/sklearn/cross_validation.py:41: DeprecationWarning: This module was deprecated in version 0.18 in favor of the model_selection module into which all the refactored classes and functions are moved. Also note that the interface of the new CV iterators are different from that of this module. This module will be removed in 0.20.\n",
      "  \"This module will be removed in 0.20.\", DeprecationWarning)\n"
     ]
    }
   ],
   "source": [
    "# sklearn imports\n",
    "from sklearn.pipeline import Pipeline\n",
    "from sklearn.pipeline import FeatureUnion\n",
    "\n",
    "from sklearn.feature_extraction.text import CountVectorizer\n",
    "from sklearn.feature_extraction.text import TfidfTransformer, TfidfVectorizer\n",
    "\n",
    "from sklearn.cross_validation import KFold\n",
    "from sklearn.metrics import roc_curve, auc\n",
    "\n",
    "from sklearn.preprocessing import Imputer\n",
    "\n",
    "from sklearn.base import BaseEstimator, TransformerMixin\n",
    "from sklearn.feature_extraction import DictVectorizer\n",
    "\n",
    "from sklearn.linear_model import LogisticRegression\n",
    "\n",
    "from scipy import interp"
   ]
  },
  {
   "cell_type": "code",
   "execution_count": 38,
   "metadata": {
    "collapsed": false
   },
   "outputs": [
    {
     "name": "stdout",
     "output_type": "stream",
     "text": [
      "through another fold\n",
      "through another fold\n",
      "through another fold\n",
      "through another fold\n",
      "through another fold\n",
      "through another fold\n"
     ]
    },
    {
     "data": {
      "image/png": "[encoded data removed]",
      "text/plain": [
       "<matplotlib.figure.Figure at 0x112eecd90>"
      ]
     },
     "metadata": {},
     "output_type": "display_data"
    }
   ],
   "source": [
    "# initialize folds\n",
    "k_fold = KFold(n=len(df_clicks_aug), n_folds=6)\n",
    "\n",
    "# initialize classifier\n",
    "pipeline = Pipeline([\n",
    "          (\"imputer\", Imputer(missing_values=\"NaN\", strategy=\"mean\", axis=0)),\n",
    "          (\"classifier\", LogisticRegression()),\n",
    "          ])\n",
    "          \n",
    "\n",
    "# initialize results variables\n",
    "tprs = []\n",
    "aucs = []\n",
    "mean_fpr = np.linspace(0, 1, 100)\n",
    "\n",
    "# loop over folds\n",
    "ii = 0\n",
    "for train_indices, test_indices in k_fold:\n",
    "\n",
    "    # fit pipeline to training data\n",
    "    pipeline.fit(X_.iloc[train_indices], Y_.iloc[train_indices])\n",
    "    \n",
    "    # compute probablilities for test data\n",
    "    probas_ = pipeline.predict_proba(X_.iloc[test_indices])\n",
    "\n",
    "    # Compute ROC curve and area under the curve\n",
    "    test_y = Y_.iloc[test_indices]\n",
    "\n",
    "    fpr, tpr, thresholds = roc_curve(test_y, probas_[:, 1])\n",
    "    tprs.append(interp(mean_fpr, fpr, tpr))\n",
    "    tprs[-1][0] = 0.0\n",
    "    roc_auc = auc(fpr, tpr)\n",
    "    aucs.append(roc_auc)\n",
    "\n",
    "    # plot ROC fold results\n",
    "    plt.plot(fpr, tpr, lw=1, alpha=0.3,\n",
    "             label='ROC fold %d (AUC = %0.2f)' % (ii, roc_auc))\n",
    "\n",
    "    ii += 1   \n",
    "    print 'through another fold'\n",
    "\n",
    "# plot guess line\n",
    "plt.plot([0, 1], [0, 1], linestyle='--', lw=2, color='r',\n",
    "         label='Luck', alpha=.8)\n",
    "\n",
    "# plot results\n",
    "mean_tpr = np.mean(tprs, axis=0)\n",
    "mean_tpr[-1] = 1.0\n",
    "mean_auc = auc(mean_fpr, mean_tpr)\n",
    "std_auc = np.std(aucs)\n",
    "plt.plot(mean_fpr, mean_tpr, color='b',\n",
    "         label=r'Mean ROC (AUC = %0.2f $\\pm$ %0.2f)' % (mean_auc, std_auc),\n",
    "         lw=2, alpha=.8)\n",
    "\n",
    "std_tpr = np.std(tprs, axis=0)\n",
    "tprs_upper = np.minimum(mean_tpr + std_tpr, 1)\n",
    "tprs_lower = np.maximum(mean_tpr - std_tpr, 0)\n",
    "plt.fill_between(mean_fpr, tprs_lower, tprs_upper, color='grey', alpha=.2,\n",
    "                 label=r'$\\pm$ 1 std. dev.')\n",
    "\n",
    "plt.xlim([-0.05, 1.05])\n",
    "plt.ylim([-0.05, 1.05])\n",
    "plt.xlabel('False Positive Rate')\n",
    "plt.ylabel('True Positive Rate')\n",
    "plt.title('Receiver Operating Characteristic')\n",
    "plt.legend(loc=\"lower right\")\n",
    "plt.show()"
   ]
  },
  {
   "cell_type": "markdown",
   "metadata": {},
   "source": [
    "The last thing to check is a quick search on the penalty term factor, $C$ to see if it's set properly or if a better value for it will yield a better ROC curve."
   ]
  },
  {
   "cell_type": "code",
   "execution_count": 48,
   "metadata": {
    "collapsed": false
   },
   "outputs": [
    {
     "data": {
      "text/plain": [
       "GridSearchCV(cv=None, error_score='raise',\n",
       "       estimator=Pipeline(memory=None,\n",
       "     steps=[('imputer', Imputer(axis=0, copy=True, missing_values='NaN', strategy='mean', verbose=0)), ('classifier', LogisticRegression(C=1.0, class_weight=None, dual=False, fit_intercept=True,\n",
       "          intercept_scaling=1, max_iter=100, multi_class='ovr', n_jobs=1,\n",
       "          penalty='l2', random_state=None, solver='liblinear', tol=0.0001,\n",
       "          verbose=0, warm_start=False))]),\n",
       "       fit_params=None, iid=True, n_jobs=1,\n",
       "       param_grid={'classifier__C': [1, 10, 20, 30, 40]},\n",
       "       pre_dispatch='2*n_jobs', refit=True, return_train_score=True,\n",
       "       scoring=None, verbose=0)"
      ]
     },
     "execution_count": 48,
     "metadata": {},
     "output_type": "execute_result"
    }
   ],
   "source": [
    "from sklearn.model_selection import GridSearchCV\n",
    "# pipeline.get_params().keys()\n",
    "parameters = {'classifier__C':[1, 10, 20, 30, 40]}\n",
    "clf = GridSearchCV(pipeline, parameters)\n",
    "clf.fit(X_, Y_)"
   ]
  },
  {
   "cell_type": "markdown",
   "metadata": {},
   "source": [
    "According to the output from the gridsearch leaving $C$ at 1 is appropriate."
   ]
  },
  {
   "cell_type": "markdown",
   "metadata": {
    "collapsed": false
   },
   "source": [
    "There are ten questions included in the instructions:\n",
    "\n",
    "> Why did you choose the model you did? Can you explain the intuition/motivation behind it?\n",
    "\n",
    "Repeating from above, my reasoning for this model were:\n",
    "1. Our labels are binary (i.e., purchase or not purchase)\n",
    "2. We have binary, discrete and continuous variables\n",
    "3. I have been using this algorithm lately and have some comfort with it.\n",
    "\n",
    "Log regression is a linear model. The intuition behind it is a distribution function is fit to the feature space. As in our case when there are a binary labels on the data, the classifier labels predictions onto a distribution curve, i.e., if the features of an item are $r$ and the log-regression weights are $\\omega$ then the decision criteria is $F(r, \\omega)$ where $F$ is the logit transformation. If $F(r, \\omega) > 0.5$ then the first label is applied to the feature set $r$ and the second label if the logit transformation is greater than 0.5 \n",
    "\n",
    "> What are the specific challenges/benefits associated with the model you chose? How did you choose the model parameters, if applicable?\n",
    "\n",
    "Benefits of a log regression approach is that it handles categorical independent and dependent variables well. Another benefit is that it is fairly robust for these type of problems (in my experience). A challenge is it's linearity -- there are more degrees of freedome for the classifier with nonlinear approaches like SVM. \n",
    "\n",
    "One preprocessing step I needed to add to the model was a cleaner for NaNs in the feature space. The python library sklearn provides a nice function for this that came in handy and I included it in our pipeline.\n",
    "\n",
    "I rand a gridsearch to tune one parameter of the model (the penalty term $C$ that helps control over-fitting. You can see that code above.\n",
    "\n",
    "> What sort of data preprocessing did you do, if any, to ensure the model behaved properly?\n",
    "\n",
    "A significant portion of this notebook is devoted to our preprocessing so I won't rehash that here. The key themes were (a) keeping in mind the linearity assumption of the logit model, (b)converting categorical variables into binaries and (c) using NaNs as needed in the preprocessing and then applying a imputer cleaner in classification pipeline.\n",
    "\n",
    "> What, if any, other model specific choices did you make to better fit the problem at hand?\n",
    "\n",
    "One approach that I like to use on problems like this is move as-much-as-possible of the data preparation into the pipeline. That is, create a pipeline that takes in the dataframe, splits the data out into different sets of features, pre-processes them into engineered features then re-combines them before the classification algorithm does its magic. My model never grew enough in sophistication to warrant using feature union for this problem.\n",
    "\n",
    "> How did you evaluate the model?\n",
    "\n",
    "I decided to use a ROC curve evaluation of the features and model using 6 folds of the data. I think this is a good approach when exploring a problem and trying to understand baseline performance. The ROC curves for all 6 folds were plotted above along with the mean curve and it's AUC. \n",
    "\n",
    "> How can we improve the model? Do we need more data? If so, what type? More features? Would you ask the business for additional fields in the data? If so, what would you ask for?\n",
    "\n",
    "Great question. I'm sure a search across more of the parameter space of the model would yield some improvements in the performance and absolutely should be done. For this exercise I did a search across different penalty terms, $C$, for log regression. However, it was not a complete search.\n",
    "\n",
    "Another opportunity to improve performance would be swap in some different models (SVM, random forest, a CNN, etc...) and see if they can infer information from the data better. For example, maybe the linearity assumption is a bad one, e.g., perhaps really short duration sessions are low probability buys, mid-length sessions are high probability purchase situations and long sessions are low probability.\n",
    "\n",
    "More data would be great! One piece of information I would ask for would be longitudinal data on the individual. That is, adding a field such as \"userID\" and then tracking that user across sessions. I imagine that would be very informative -- i.e., there are probably \"tells\" that different shoppers have that indicate if they are serious about making a purchase. Another nice-to-have field would be indicators of on-page behavior. For example, did they read the product-reviews? Another nice piece of data would be to understand where in the purchase journey an individual made it. i.e., did he/she place the item in their basket or just look at the splash page. Yet another piece of data that would be great would be referral approach, i.e., how did the user end up on this item page? Was it via search or an ad/referral on another item page?\n",
    "\n",
    "> Based on the task objective, which error do you think we should minimize – incorrectly identifying a user as a buyer, or missing a buyer?\n",
    "\n",
    "Hmm...in times past this question has had an obvious answer. For example, when working on defense related problems false alarms were much more tolerable than leakers. Likewise, when working on client-facing projects, false alarms created mistrust of the data within users and it was better to err on the side of missed detections.\n",
    "\n",
    "Ultimately I think it depends on the application of the data. For personalization purposes I it might be better to miss buyers than label non-purchases as purchases. That is, the frustration experienced by a user who was incorrectly identified as a buyer might drive that customer away from your site and cause them to lose confidence in your e-commerce. In the long run, that might cost you more than whatever benefits you were trying to convey to the buyer you missed.\n",
    "\n",
    "However, if the application of this prediction is, say scheduling CPU resources for checkout -- then maybe you want to err on the side of allowing more false alarms. A buyer who experiences a laggy checkout process might get frustrated and not come back. You may want to avoid those at all costs.\n",
    "\n",
    "> Based on your answer above, how might you/did you adjust your approach?\n",
    "\n",
    "Since we presented our result as a ROC curve it doesn't change too much from above. Our answer above would impact where on the ROC curve we chose our design point for the classifier. \n",
    "\n",
    "> How easy would it be to generalize your approach to other sites? What factors would we need to consider before implementing this approach at scale in a production environment?\n",
    "\n",
    "First, we should get it out of a Jupyter notebook! To apply to scale a few thoughts come to mind:\n",
    "    1. Move the data to databases instead of flat files\n",
    "    2. Implement the feature production in something like Spark\n",
    "    3. Continue to build out and experiment with different features sets\n",
    "    4. Store the classifier inputs (i.e., weights) and use them in a production chain.\n",
    "\n",
    "> Imagine we’ve improved our model to the point where we can perfectly predict whether a user will buy an item. What should be done with this information? How should we apply it, to best help our business and help users on our site?\n",
    "\n",
    "After reading this question I thought about how a grocery store exploits the fact that placing an item in your cart is a (near) perfect indicator of purchase intent. From this analogy a few strategies jump out to me:\n",
    "\n",
    "1. Allocate checkout resources to make sure these shoppers who intend to purchase have 5-start checkout experiences. Someone who purchases from you has the potential to become a loyal customer -- you want to maximize this potential by streamlining their checkout and making sure it is a fast and seamless process. Just like a grocery store customers might get frustrated with slow checkout processes. The lead time in knowing a purchase is about to occur could be used to direct server resources toward that checkout. You may also want to position the \"buy\" button in a high real-estate location as well and make it easy for the person to buy\n",
    "\n",
    "2. The up-sell ads could also change based on purchase intent. If someone is about to purchase an item then you could/would want to show them ads/recommendations for products that accompany that purchase. Likewise if someone is browsing then you would want to design your recommendation strategy differently.\n",
    "\n",
    "3. If my commerce site operated in a short-term delivery paradigm (1 hour delivery for example), or if key delivery deadlines were approaching (orders made after 5pm cost my business more in shipping) I would certainly take advantage of the time savings inherent in instant awareness of a product sales and begin the delivery process.\n",
    "\n",
    "4. I think you could use this information to improve the performance of recommendation engines used by the commerce site. I believe the conditional knowledge known by the scenario (purchase intent given click) could be exploited by the recommendation engine to optimize recommendations shown to a user on the splash page. The optimal strategy for such a display would be interesting (grocery store don't always place high purchase intent items in optimal locations) but I think it could improve performance.\n",
    "\n",
    "Thanks!\n",
    "-Dan\n",
    "\n",
    "March 30 2018"
   ]
  },
  {
   "cell_type": "markdown",
   "metadata": {},
   "source": [
    "### BACK-UP"
   ]
  },
  {
   "cell_type": "code",
   "execution_count": 49,
   "metadata": {
    "collapsed": true
   },
   "outputs": [],
   "source": [
    "# Code I considered using\n",
    "# more streamlined pipeline\n",
    "\n",
    "\n",
    "# # Data extraction class\n",
    "# class FeaturesExtractor(BaseEstimator, TransformerMixin):\n",
    "#     \"\"\"\n",
    "#     Custom Helper class for pipeline\n",
    "#     Extract the category labels, and the derived features from our dataframe\n",
    "\n",
    "#     Takes a sequence of strings and produces a dict of sequences.\n",
    "#     Keys are\n",
    "#         - 'category'\n",
    "#         - 'derived_features'\n",
    "#     \"\"\"\n",
    "#     def fit(self, x, y=None):\n",
    "#         # no-op function\n",
    "#         return self\n",
    "\n",
    "#     def transform(self, df_data):\n",
    "#         # initialize output for transform\n",
    "#         features = np.recarray(shape=(len(df_data),),\n",
    "#                                dtype=[('category', object),\n",
    "#                                       ('derived_features', object)])\n",
    "\n",
    "#         # get derived feature column names\n",
    "#         not_features = ['sessionID', 'timestamp', \n",
    "#                     'itemID', 'category_name',\n",
    "#                     'session_purchase', 'price',\n",
    "#                     'quantity', 'item_purchase', 'timestamp_datetime']\n",
    "#         derived_feature_columns = [c for c in df_data.columns if c not in not_features]\n",
    "\n",
    "#         # extract features from dataframe\n",
    "#         for i, row in enumerate(df_data.iterrows()):\n",
    "#             features['category'][i] = row[1]['category_name']\n",
    "            \n",
    "#             X_ = row[1][derived_feature_columns].values\n",
    "#             derived_feature_dict = {derived_feature_columns[ii]:X_[ii] \n",
    "#                                         for ii in np.arange(len(X_))}\n",
    "#             features['derived_features'][i] = derived_feature_dict\n",
    "#         return features\n",
    "    \n",
    "# # Pipeline class that selects data\n",
    "# class ItemSelector(BaseEstimator, TransformerMixin):\n",
    "#     \"\"\"\n",
    "#     For data grouped by feature, select subset of data at a provided key.\n",
    "\n",
    "#     The data is expected to be stored in a 2D data structure, where the first\n",
    "#     index is over features and the second is over samples.  i.e.\n",
    "\n",
    "#     >> len(data[key]) == n_samples\n",
    "\n",
    "#     Please note that this is the opposite convention to scikit-learn feature\n",
    "#     matrixes (where the first index corresponds to sample).\n",
    "\n",
    "#     ItemSelector only requires that the collection implement getitem\n",
    "#     (data[key]).  Examples include: a dict of lists, 2D numpy array, Pandas\n",
    "#     DataFrame, numpy record array, etc.\n",
    "\n",
    "#     >> data = {'a': [1, 5, 2, 5, 2, 8],\n",
    "#                'b': [9, 4, 1, 4, 1, 3]}\n",
    "#     >> ds = ItemSelector(key='a')\n",
    "#     >> data['a'] == ds.transform(data)\n",
    "\n",
    "#     ItemSelector is not designed to handle data grouped by sample.  (e.g. a\n",
    "#     list of dicts).  If your data is structured this way, consider a\n",
    "#     transformer along the lines of `sklearn.feature_extraction.DictVectorizer`.\n",
    "\n",
    "#     Parameters\n",
    "#     ----------\n",
    "#     key : hashable, required\n",
    "#         The key corresponding to the desired value in a mappable.\n",
    "#     \"\"\"\n",
    "#     def __init__(self, key):\n",
    "#         self.key = key\n",
    "\n",
    "#     def fit(self, x, y=None):\n",
    "#         return self\n",
    "\n",
    "#     def transform(self, data_dict):\n",
    "#         return data_dict[self.key]"
   ]
  },
  {
   "cell_type": "code",
   "execution_count": 41,
   "metadata": {
    "collapsed": true
   },
   "outputs": [],
   "source": [
    "# # Construct Pipeline\n",
    "# pipeline = Pipeline([\n",
    "#     # Extract survey scores, behavior data and text\n",
    "#     ('features', FeaturesExtractor()),\n",
    "\n",
    "#     # Use FeatureUnion to combine the features from subject and body\n",
    "#     ('union', FeatureUnion(\n",
    "#         transformer_list=[\n",
    "\n",
    "#             # Pipeline for pulling derived_features\n",
    "#             ('derived_features', Pipeline([\n",
    "#                 ('selector', ItemSelector(key='derived_features')),\n",
    "#                 ('vect', DictVectorizer()),\n",
    "#                 (\"imputer\", Imputer(missing_values=\"NaN\",\n",
    "#                                           strategy=\"mean\",\n",
    "#                                           axis=0)),                                   \n",
    "#             ])),\n",
    "\n",
    "#             # Pipeline for standard bag-of-words model for body\n",
    "#             ('category', Pipeline([\n",
    "#                 ('selector', ItemSelector(key='category')),\n",
    "#                 ('vect', CountVectorizer()),\n",
    "#             ])),\n",
    "#         ],\n",
    "#     )),\n",
    "\n",
    "#     # Use a log regression classifier on the combined features\n",
    "#     ('classifier', LogisticRegression()),\n",
    "# ])"
   ]
  }
 ],
 "metadata": {
  "kernelspec": {
   "display_name": "Python 2",
   "language": "python",
   "name": "python2"
  },
  "language_info": {
   "codemirror_mode": {
    "name": "ipython",
    "version": 2
   },
   "file_extension": ".py",
   "mimetype": "text/x-python",
   "name": "python",
   "nbconvert_exporter": "python",
   "pygments_lexer": "ipython2",
   "version": "2.7.10"
  }
 },
 "nbformat": 4,
 "nbformat_minor": 2
}
